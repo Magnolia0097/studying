{
 "cells": [
  {
   "cell_type": "code",
   "execution_count": 3,
   "id": "8321a0a1",
   "metadata": {},
   "outputs": [
    {
     "name": "stdout",
     "output_type": "stream",
     "text": [
      "{\n",
      "\t\"lastBuildDate\":\"Wed, 26 Oct 2022 11:18:28 +0900\",\n",
      "\t\"total\":452479,\n",
      "\t\"start\":1,\n",
      "\t\"display\":10,\n",
      "\t\"items\":[\n",
      "\t\t{\n",
      "\t\t\t\"title\":\"#WINTER #æspa #윈터 #김민정 | Fotos engraçadas, Fotos\",\n",
      "\t\t\t\"link\":\"https:\\/\\/i.pinimg.com\\/originals\\/f2\\/e6\\/50\\/f2e650a8fa9a899434f77ec818a264f0.jpg\",\n",
      "\t\t\t\"thumbnail\":\"https:\\/\\/search.pstatic.net\\/sunny\\/?src=https:\\/\\/i.pinimg.com\\/originals\\/f2\\/e6\\/50\\/f2e650a8fa9a899434f77ec818a264f0.jpg&type=b150\",\n",
      "\t\t\t\"sizeheight\":\"1080\",\n",
      "\t\t\t\"sizewidth\":\"1080\"\n",
      "\t\t},\n",
      "\t\t{\n",
      "\t\t\t\"title\":\"[포토Q] 에스파 윈터 &apos;도도한 냉미녀&apos;\",\n",
      "\t\t\t\"link\":\"http:\\/\\/imgnews.naver.net\\/image\\/5400\\/2021\\/12\\/02\\/0000198837_002_20211202234038041.jpg\",\n",
      "\t\t\t\"thumbnail\":\"https:\\/\\/search.pstatic.net\\/common\\/?src=http:\\/\\/imgnews.naver.net\\/image\\/5400\\/2021\\/12\\/02\\/0000198837_002_20211202234038041.jpg&type=b150\",\n",
      "\t\t\t\"sizeheight\":\"721\",\n",
      "\t\t\t\"sizewidth\":\"550\"\n",
      "\t\t},\n",
      "\t\t{\n",
      "\t\t\t\"title\":\"포카팩 한셑 샀는데 B쩡 왔다 - 윈터 카테고리\",\n",
      "\t\t\t\"link\":\"https:\\/\\/img.theqoo.net\\/img\\/JAHAl.jpg\",\n",
      "\t\t\t\"thumbnail\":\"https:\\/\\/search.pstatic.net\\/sunny\\/?src=https:\\/\\/img.theqoo.net\\/img\\/JAHAl.jpg&type=b150\",\n",
      "\t\t\t\"sizeheight\":\"1095\",\n",
      "\t\t\t\"sizewidth\":\"828\"\n",
      "\t\t},\n",
      "\t\t{\n",
      "\t\t\t\"title\":\"[포토] 에스파 윈터의 유혹적인 깜찍 하트\",\n",
      "\t\t\t\"link\":\"http:\\/\\/imgnews.naver.net\\/image\\/5526\\/2022\\/08\\/22\\/0000308917_001_20220822131002480.jpg\",\n",
      "\t\t\t\"thumbnail\":\"https:\\/\\/search.pstatic.net\\/common\\/?src=http:\\/\\/imgnews.naver.net\\/image\\/5526\\/2022\\/08\\/22\\/0000308917_001_20220822131002480.jpg&type=b150\",\n",
      "\t\t\t\"sizeheight\":\"522\",\n",
      "\t\t\t\"sizewidth\":\"600\"\n",
      "\t\t},\n",
      "\t\t{\n",
      "\t\t\t\"title\":\"에스파 윈터 &apos;시크한 눈빛&apos; [MK포토]\",\n",
      "\t\t\t\"link\":\"http:\\/\\/imgnews.naver.net\\/image\\/410\\/2021\\/12\\/02\\/0000835521_001_20211202191003215.jpg\",\n",
      "\t\t\t\"thumbnail\":\"https:\\/\\/search.pstatic.net\\/common\\/?src=http:\\/\\/imgnews.naver.net\\/image\\/410\\/2021\\/12\\/02\\/0000835521_001_20211202191003215.jpg&type=b150\",\n",
      "\t\t\t\"sizeheight\":\"829\",\n",
      "\t\t\t\"sizewidth\":\"640\"\n",
      "\t\t},\n",
      "\t\t{\n",
      "\t\t\t\"title\":\"[HD포토] 에스파(aespa) 윈터, &apos;마이 심쿵하게 만드는 속눈썹&apos; (2021 AAA 레드카펫)\",\n",
      "\t\t\t\"link\":\"http:\\/\\/imgnews.naver.net\\/image\\/5353\\/2021\\/12\\/04\\/0000789103_001_20211204182402241.jpg\",\n",
      "\t\t\t\"thumbnail\":\"https:\\/\\/search.pstatic.net\\/common\\/?src=http:\\/\\/imgnews.naver.net\\/image\\/5353\\/2021\\/12\\/04\\/0000789103_001_20211204182402241.jpg&type=b150\",\n",
      "\t\t\t\"sizeheight\":\"1920\",\n",
      "\t\t\t\"sizewidth\":\"1200\"\n",
      "\t\t},\n",
      "\t\t{\n",
      "\t\t\t\"title\":\"사실 윈터 엠카 뿌까머리 하고나올줄몰랐음 - 케이돌토크 카테고리\",\n",
      "\t\t\t\"link\":\"https:\\/\\/img.theqoo.net\\/img\\/PXqFF.jpg\",\n",
      "\t\t\t\"thumbnail\":\"https:\\/\\/search.pstatic.net\\/sunny\\/?src=https:\\/\\/img.theqoo.net\\/img\\/PXqFF.jpg&type=b150\",\n",
      "\t\t\t\"sizeheight\":\"584\",\n",
      "\t\t\t\"sizewidth\":\"584\"\n",
      "\t\t},\n",
      "\t\t{\n",
      "\t\t\t\"title\":\"[ST포토] 윈터 &apos;귀여운 카리스마&apos;\",\n",
      "\t\t\t\"link\":\"http:\\/\\/imgnews.naver.net\\/image\\/5348\\/2022\\/08\\/20\\/20_821198_35337_20220820212803835.jpg\",\n",
      "\t\t\t\"thumbnail\":\"https:\\/\\/search.pstatic.net\\/common\\/?src=http:\\/\\/imgnews.naver.net\\/image\\/5348\\/2022\\/08\\/20\\/20_821198_35337_20220820212803835.jpg&type=b150\",\n",
      "\t\t\t\"sizeheight\":\"810\",\n",
      "\t\t\t\"sizewidth\":\"650\"\n",
      "\t\t},\n",
      "\t\t{\n",
      "\t\t\t\"title\":\"Pin by nala on winter aespa | Girl, Fashion, Beauty\",\n",
      "\t\t\t\"link\":\"https:\\/\\/i.pinimg.com\\/736x\\/74\\/dd\\/27\\/74dd274685aabf4b4844c09a825ff500.jpg\",\n",
      "\t\t\t\"thumbnail\":\"https:\\/\\/search.pstatic.net\\/sunny\\/?src=https:\\/\\/i.pinimg.com\\/736x\\/74\\/dd\\/27\\/74dd274685aabf4b4844c09a825ff500.jpg&type=b150\",\n",
      "\t\t\t\"sizeheight\":\"981\",\n",
      "\t\t\t\"sizewidth\":\"736\"\n",
      "\t\t},\n",
      "\t\t{\n",
      "\t\t\t\"title\":\"윈터가 ㅈㄴ 좋다... - 케이돌토크 카테고리\",\n",
      "\t\t\t\"link\":\"https:\\/\\/img.theqoo.net\\/img\\/sMqYt.jpg\",\n",
      "\t\t\t\"thumbnail\":\"https:\\/\\/search.pstatic.net\\/sunny\\/?src=https:\\/\\/img.theqoo.net\\/img\\/sMqYt.jpg&type=b150\",\n",
      "\t\t\t\"sizeheight\":\"737\",\n",
      "\t\t\t\"sizewidth\":\"668\"\n",
      "\t\t}\n",
      "\t]\n",
      "}\n"
     ]
    }
   ],
   "source": [
    "# 네이버 검색 API 예제 - 블로그 검색\n",
    "import os\n",
    "import sys\n",
    "import urllib.request\n",
    "client_id = \"q6hm9ud4FR9ByGXP0C1A\" # 내 클라이언트 id\n",
    "client_secret = \"YXinlHHrat\"        # 내 클라이언트 secret\n",
    "encText = urllib.parse.quote(\"윈터\")\n",
    "url = \"https://openapi.naver.com/v1/search/image?query=\" + encText # JSON 결과 /// blog->image\n",
    "request = urllib.request.Request(url)\n",
    "request.add_header(\"X-Naver-Client-Id\",client_id)\n",
    "request.add_header(\"X-Naver-Client-Secret\",client_secret)\n",
    "response = urllib.request.urlopen(request)\n",
    "rescode = response.getcode()\n",
    "if(rescode==200):\n",
    "    response_body = response.read()\n",
    "    print(response_body.decode('utf-8'))\n",
    "else:\n",
    "    print(\"Error Code:\" + rescode)"
   ]
  },
  {
   "cell_type": "markdown",
   "id": "8d602101",
   "metadata": {},
   "source": [
    "코드 수정"
   ]
  },
  {
   "cell_type": "code",
   "execution_count": 6,
   "id": "590ea168",
   "metadata": {},
   "outputs": [
    {
     "name": "stdout",
     "output_type": "stream",
     "text": [
      "<class 'dict'>\n"
     ]
    }
   ],
   "source": [
    "import requests\n",
    "import json\n",
    "\n",
    "client_id = \"q6hm9ud4FR9ByGXP0C1A\" # 내 클라이언트 id\n",
    "client_secret = \"YXinlHHrat\"        # 내 클라이언트 secret\n",
    "\n",
    "keyword = '고양이'\n",
    "display = 100\n",
    "\n",
    "url = f\"https://openapi.naver.com/v1/search/image?query={keyword}&display={display}\"  \n",
    "\n",
    "HEADERS = {\"X-Naver-Client-Id\": client_id, \"X-Naver-Client-Secret\":client_secret}\n",
    "\n",
    "r = requests.get(url, headers=HEADERS)\n",
    "\n",
    "python_obj = json.loads(r.text)\n",
    "print(type(python_obj))"
   ]
  },
  {
   "cell_type": "markdown",
   "id": "a24be6ae",
   "metadata": {},
   "source": [
    "python_obj 딕셔너리에서 사진 링크 찾기"
   ]
  },
  {
   "cell_type": "code",
   "execution_count": 7,
   "id": "97618404",
   "metadata": {},
   "outputs": [
    {
     "data": {
      "text/plain": [
       "6199415"
      ]
     },
     "execution_count": 7,
     "metadata": {},
     "output_type": "execute_result"
    }
   ],
   "source": [
    "# 키 total의 value\n",
    "python_obj['total']"
   ]
  },
  {
   "cell_type": "code",
   "execution_count": 8,
   "id": "46d700fa",
   "metadata": {},
   "outputs": [
    {
     "data": {
      "text/plain": [
       "'Wed, 26 Oct 2022 11:29:14 +0900'"
      ]
     },
     "execution_count": 8,
     "metadata": {},
     "output_type": "execute_result"
    }
   ],
   "source": [
    "python_obj['lastBuildDate']"
   ]
  },
  {
   "cell_type": "code",
   "execution_count": 9,
   "id": "de8896b9",
   "metadata": {},
   "outputs": [
    {
     "data": {
      "text/plain": [
       "100"
      ]
     },
     "execution_count": 9,
     "metadata": {},
     "output_type": "execute_result"
    }
   ],
   "source": [
    "# items 안에 사진 정보가 다 들어있음\n",
    "len(python_obj['items'])"
   ]
  },
  {
   "cell_type": "code",
   "execution_count": 11,
   "id": "8afd8bd6",
   "metadata": {},
   "outputs": [
    {
     "data": {
      "text/plain": [
       "'http://shop1.phinf.naver.net/20221010_126/1665378539334Nug60_PNG/66514437963764632_1891998972.png'"
      ]
     },
     "execution_count": 11,
     "metadata": {},
     "output_type": "execute_result"
    }
   ],
   "source": [
    "# 첫 번째 items의 link 가져오기\n",
    "python_obj['items'][0]['link']"
   ]
  },
  {
   "cell_type": "markdown",
   "id": "492fcefe",
   "metadata": {},
   "source": [
    "이미지 링크로 이미지 저장하기"
   ]
  },
  {
   "cell_type": "code",
   "execution_count": 17,
   "id": "e3f645f2",
   "metadata": {},
   "outputs": [],
   "source": [
    "img_url = python_obj['items'][0]['link']"
   ]
  },
  {
   "cell_type": "code",
   "execution_count": 18,
   "id": "3b14d887",
   "metadata": {},
   "outputs": [
    {
     "data": {
      "text/plain": [
       "200"
      ]
     },
     "execution_count": 18,
     "metadata": {},
     "output_type": "execute_result"
    }
   ],
   "source": [
    "img_file = requests.get(img_url)\n",
    "img_file.status_code"
   ]
  },
  {
   "cell_type": "code",
   "execution_count": 20,
   "id": "5bcf2d28",
   "metadata": {},
   "outputs": [],
   "source": [
    "with open(f'1.{keyword}.jpg', 'wb') as f:\n",
    "    f.write(img_file.content)"
   ]
  },
  {
   "cell_type": "code",
   "execution_count": null,
   "id": "8a6b5dd6",
   "metadata": {},
   "outputs": [],
   "source": []
  },
  {
   "cell_type": "code",
   "execution_count": 16,
   "id": "ea17f115",
   "metadata": {},
   "outputs": [
    {
     "name": "stdout",
     "output_type": "stream",
     "text": [
      "200\n"
     ]
    }
   ],
   "source": [
    "img_url = python_obj['items'][0]['link']\n",
    "img_file = requests.get(img_url)\n",
    "print(img_file.status_code)\n",
    "with open('cat.jpg', 'wb') as f:\n",
    "    f.write(img_file.content)"
   ]
  },
  {
   "cell_type": "code",
   "execution_count": 23,
   "id": "62827984",
   "metadata": {},
   "outputs": [
    {
     "name": "stdout",
     "output_type": "stream",
     "text": [
      "1 http://imgnews.naver.net/image/5511/2022/10/13/0000083189_001_20221013112202413.jpg\n",
      "2 http://shop1.phinf.naver.net/20221010_126/1665378539334Nug60_PNG/66514437963764632_1891998972.png\n",
      "3 https://www.zooseyo.com/dog_sale/photo/202210/1665646883_02204900.jpg\n",
      "4 https://media.istockphoto.com/photos/cute-kitten-picture-id121261537?s=612x612\n",
      "5 https://w.namu.la/s/82341c2571ba11c142f5784afd8023b7548687b9e2c0d6d649b9fc5f8b1ec2087d36016654ba2557bf1dece7a08a13e907ee97e8f76b7fcffbe79c9bb04c650c4ebe0518f721b762d5c96e2a5efce098594d5ab0f25000770460d352d4204ad6\n",
      "6 https://modo-phinf.pstatic.net/20221014_49/16657208049011UkJt_JPEG/mosa20agFY.jpeg\n",
      "7 https://www.zooseyo.com/dog_sale/photo/202209/1664157045_11925000.jpg\n",
      "8 http://shop1.phinf.naver.net/20220929_230/1664405518280I8Sca_JPEG/65541353115347767_1807839021.jpg\n",
      "9 https://www.zooseyo.com/dog_sale/photo/202210/1664950908_29086300.jpg\n",
      "10 https://img.theqoo.net/img/SnXHT.jpg\n",
      "11 https://www.zooseyo.com/dog_sale/photo/202209/1663927346_39069600.jpg\n",
      "12 https://cdn.clien.net/web/api/file/F01/13342428/3e177caccbf253.JPG?w=780&h=30000\n",
      "13 https://www.zooseyo.com/dog_sale/photo/202209/1664192145_23538700.jpg\n",
      "14 https://www.zooseyo.com/dog_sale/photo/202210/1665752574_95962600.jpg\n",
      "15 http://shop1.phinf.naver.net/20221013_274/16656559815980zW2g_PNG/66791827269672108_632316389.png\n",
      "16 http://post.phinf.naver.net/MjAyMjEwMDVfMjcy/MDAxNjY0OTYwMDIyMDAw.M6hm_QJMKR0IG_TW3BGN0GWHnxEkQzDfjcMRtqHTGs8g.fRRcLMnmrPz5If5ed6kebv2qEasENyqXvQhTWUXwZ2Qg.JPEG/Ic0iJWdpKGPklfA57TS6as-IoArk.jpg\n",
      "17 https://www.zooseyo.com/dog_sale/photo_free/202208/1659513682_42162100.jpg\n",
      "18 https://www.zooseyo.com/dog_sale/photo_free/202210/1665389722_71556600.jpg\n",
      "19 https://www.zooseyo.com/dog_sale/photo/202210/1665370646_19961300.jpg\n",
      "20 https://bbscdn.df.nexon.com/data7/commu/202208/022656_630cf6e0173ca.jpg\n",
      "21 https://www.zooseyo.com/dog_sale/photo_free/202209/1662448029_46382100.JPG\n",
      "22 https://www.zooseyo.com/dog_sale/photo_free/202209/1664235521_17312800.jpg\n",
      "23 http://file3.instiz.net/data/file3/2022/10/07/b/c/e/bce7639f86f9c83c9bc359143e28a808.jpg\n",
      "24 https://www.zooseyo.com/dog_sale/photo/202210/1665646793_69800700.jpg\n",
      "25 https://www.zooseyo.com/dog_sale/photo_free/202208/1659694910_77029900.jpg\n",
      "26 https://live.staticflickr.com/132/376900392_fad3858c83_z.jpg\n",
      "27 https://www.zooseyo.com/dog_sale/photo/202210/1665387281_87366100.jpg\n",
      "28 https://www.zooseyo.com/dog_sale/photo_free/202210/1665621938_44066200.jpg\n",
      "29 https://www.zooseyo.com/dog_sale/photo_free/202210/1665399060_66041400.jpg\n",
      "30 http://shop1.phinf.naver.net/20221004_282/1664888467276HUu7V_JPEG/66024302087691727_1803628459.jpg\n",
      "31 https://cdn.clien.net/web/api/file/F01/4167959/3fd8cd5edde74cc5be4.PNG\n",
      "32 https://www.zooseyo.com/dog_sale/photo_free/202209/1664450797_56113800.jpg\n",
      "33 https://www.zooseyo.com/dog_sale/photo_free/202210/1665296759_17073700.jpg\n",
      "34 https://media.istockphoto.com/photos/cute-kitten-picture-id152111722?s=612x612\n",
      "35 https://media.istockphoto.com/photos/pet-picture-id121898459?s=612x612\n",
      "36 http://shop1.phinf.naver.net/20220901_49/1662007211483NBg7f_JPEG/63143039308164500_240890021.jpeg\n",
      "37 https://img.theqoo.net/img/LXHHj.jpg\n",
      "38 https://www.zooseyo.com/dog_sale/photo/202209/1664191194_53915900.JPG\n",
      "39 https://image.idus.com/image/files/e01d6e8982c64ba681a7c4122834fc7d_720.jpg\n",
      "40 http://shop1.phinf.naver.net/20221022_255/1666431011662FKQfP_JPEG/67566900258889390_1798723162.jpg\n",
      "41 https://www.zooseyo.com/dog_sale/photo_free/202209/1664329910_04839300.jpg\n",
      "42 https://i.pinimg.com/originals/ff/68/a1/ff68a13e7452ecb94acb3f006c4fed63.jpg\n",
      "43 http://post.phinf.naver.net/MjAyMjEwMTJfNDAg/MDAxNjY1NTU2MzMwODE0.3mPliJd1S5OZhZ8jfh4Ih3NlVsjiwDWjudNaGmYxREsg.Zzf6vAAOJ9CoP-g-4fNYV3g2SdRMpx87EkLDFW1kuMQg.PNG/IzynNKzjozzWpr0wI__xBbE824Tc.jpg\n",
      "44 https://coinpan.com/files/attach/images/198/798/527/323/ca6213cc608a4cde1b07f9d37c76a0ad.jpg\n",
      "45 http://post.phinf.naver.net/MjAyMjA4MjlfMjk4/MDAxNjYxNzU0NDUxMDUw.UQvVinTqiQHhsxw7DbAIaSgYc2WMoVxhlsuY7wusimwg.UJvjo9DaM4b3FrhEGlycevejcy0i89i8N0ljcx7Ocpgg.JPEG/IKOiQRnPCUOt9LwK2mNN-Nq2qT1o.jpg\n",
      "46 https://img.theqoo.net/img/dtggH.jpg\n",
      "47 https://media.istockphoto.com/photos/british-cat-picture-id176861411?s=612x612\n",
      "48 http://shop1.phinf.naver.net/20220927_267/1664289589911lJneL_JPEG/65425478618654880_1970182326.jpg\n",
      "49 https://i2.ruliweb.com/img/22/09/08/1831af1c065508906.jpg\n",
      "50 http://shop1.phinf.naver.net/20221003_201/1664779254354AzMbk_JPEG/65915038067884503_407979457.jpg\n",
      "51 https://www.zooseyo.com/dog_sale/photo_free/202209/1662014894_70322300.jpg\n",
      "52 https://i.pinimg.com/originals/10/47/0e/10470efb2656b5b8544c76d934e590ca.jpg\n",
      "53 https://dnvefa72aowie.cloudfront.net/origin/article/202206/94BC35054E2647F30E5D0396E9E1F18EC832AD811B3836EB2493404BDB0F1464.jpg?q=95&s=1440x1440&t=inside\n",
      "54 https://dnvefa72aowie.cloudfront.net/origin/article/202205/2d57c3906000619dac056c5bd3f473a690adb85625c5b4b47c3ab5e19e32438e.webp?q=95&s=1440x1440&t=inside\n",
      "55 https://dispatch.cdnser.be/cms-content/uploads/2022/10/12/2f5470ed-5515-461f-a4fd-dfcd8684d45e.jpg\n",
      "56 http://c2down.cyworld.co.kr/download?fid=642232b2cabc4c406e4d32b2cabd9394&name=P1010415.jpg\n",
      "57 https://img.theqoo.net/img/GAUlp.jpg\n",
      "58 https://www.zooseyo.com/dog_sale/photo/202208/1661850332_28180300.JPG\n",
      "59 https://media.istockphoto.com/photos/cat-picture-id152982206?s=612x612\n",
      "60 https://www.zooseyo.com/dog_sale/photo_free/202210/1665544863_90090000.jpg\n",
      "61 https://cdn.ppomppu.co.kr/zboard/data3/2013/0408/1365425583_IMG_20130323_13.jpg\n",
      "62 http://shop1.phinf.naver.net/20220926_161/1664184529757UgL1m_JPEG/no_0.112130396950331561664177540183.jpg\n",
      "63 https://www.zooseyo.com/dog_sale/photo/202209/1663927939_96767900.jpg\n",
      "64 https://www.zooseyo.com/dog_sale/photo_free/202209/1662945834_47932600.jpg\n",
      "65 http://post.phinf.naver.net/MjAyMjA5MDJfMTQy/MDAxNjYyMDgzMDg5MDM4.gkfWZ2wghMY9AEBAVHQlH1S8nH7_rBWsWWCP0reKtNwg.vXUGVmh4WqtKlstvKQTkuXwZuRJzLwOi1Onr4F2ZI6gg.PNG/InIJqVNsQueHhNbArFGppZkMe1WE.jpg\n",
      "66 https://www.zooseyo.com/dog_sale/photo_free/202209/1664187835_71112900.jpg\n",
      "67 https://media.istockphoto.com/photos/kittens-picture-id176951758?s=612x612\n",
      "68 http://post.phinf.naver.net/MjAyMjA2MDhfNTEg/MDAxNjU0NjE5NjA0NDY3.1OAohyUZZWWTnY-CGjy1bqMEL7qZQvSpPS_mZx_8fLgg.lMqGbxUi3rEePI7jvv6_XmX87Dd7UGbmwd7-GVQV3rsg.JPEG/IbHynXDrYZ1WNmx7orI0ZLWw156c.jpg\n",
      "69 https://img.theqoo.net/img/MfOXd.jpg\n",
      "70 https://www.zooseyo.com/dog_sale/photo/202210/1665035274_41667700.jpg\n",
      "71 http://shop1.phinf.naver.net/20220928_244/1664344425063Y7IbE_JPEG/65480313766526557_889469830.jpg\n",
      "72 https://dnvefa72aowie.cloudfront.net/origin/article/202205/cf9dec41c750f76de050283d59fe16797d566c3a4232d38ee4ba05aa702bc4d5.webp?q=95&s=1440x1440&t=inside\n",
      "73 https://cdn.clien.net/web/api/file/F01/13430615/46081dc14c463d.jpeg\n",
      "74 http://post.phinf.naver.net/MjAyMjA5MjdfOTQg/MDAxNjY0MjUyNzM5ODMw.l8RcaSZVsQh6cPlDu95COTJSWVjz9GhPB6mvwnXbFVgg.pqr-VIT6hD57Q3ahy-ygIx4vU4Iu7UIJkX3rgoPSihog.PNG/IIo3yBLDvwE2nq3IuPgjMTcibHck.jpg\n",
      "75 http://timg.humoruniv.com/thumb_crop_resize.php?url=http://down.humoruniv.com/hwiparambbs/data/pdswait/a_w4515b2001_b789c2aa4816baa0ed4978ce1c6ea36b33fdef43.jpg?SIZE=800x1066\n",
      "76 https://www.zooseyo.com/dog_sale/photo_free/202210/1665307487_18272000.jpg\n",
      "77 http://post.phinf.naver.net/MjAyMjEwMDVfMjgy/MDAxNjY0OTUxNTYwMDE3.tgXt1wFsvJlmaS--p1uokO3YWFCAtIsHMordLPR08rMg.T_YFVVdqdKsWzP_1riBtxioUOq4IHoraPQo5OF6eGq4g.PNG/ICggnHBNu9kBQCvf3r-7jml6ZFLc.jpg\n",
      "78 https://www.zooseyo.com/dog_sale/photo_free/202209/1664191787_80144100.jpg\n",
      "79 https://www.zooseyo.com/dog_sale/photo_free/202210/1665296156_63679200.jpg\n",
      "80 https://www.zooseyo.com/dog_sale/photo/202209/1664548772_82497700.jpg\n",
      "81 https://cdn.clien.net/web/api/file/F01/13464511/48d7a498a38e8d.JPG?w=780&h=30000\n",
      "82 https://www.zooseyo.com/dog_sale/photo_free/202209/1664164325_22508100.jpg\n",
      "83 https://www.zooseyo.com/dog_sale/photo_free/202210/1664607853_20791100.jpg\n",
      "84 http://shop1.phinf.naver.net/20221022_106/1666410786665IlinW_JPEG/v1.jpg\n",
      "85 http://shop1.phinf.naver.net/20220930_209/1664526962729vB6n3_JPEG/9168227_1664510622_63366a9e5afff.jpg\n",
      "86 https://www.zooseyo.com/dog_sale/photo_free/202209/1664331088_53987100.jpg\n",
      "87 https://cdn.clien.net/web/api/file/F01/13434624/46550aac4e6954.jpeg\n",
      "88 https://www.zooseyo.com:455/dog_sale/photo_free/202209/1664192287_99153700.jpg\n",
      "89 https://www.zooseyo.com/dog_sale/photo_free/202210/1665206365_44428800.jpg\n",
      "90 http://shop1.phinf.naver.net/20221004_6/1664855731199axCEQ_PNG/65991573910122039_1967176693.png\n",
      "91 http://shopping.phinf.naver.net/main_3504674/35046744372.20221004191457.jpg\n",
      "92 https://cdn.clien.net/web/api/file/F01/13461288/48abad8f2208aa.jpg\n",
      "93 http://shopping.phinf.naver.net/main_3494700/34947004950.20220928194323.jpg\n",
      "94 http://shop1.phinf.naver.net/20221012_263/1665545547609vn22D_JPEG/66681390301279546_1069778523.jpg\n",
      "95 https://i3.ruliweb.com/img/22/09/28/183837ac4014ffb88.jpeg\n",
      "96 http://shop1.phinf.naver.net/20221011_226/1665478441434PPgYV_JPEG/66614337133154727_1759924225.jpg\n",
      "97 https://i.imgur.com/hevqP0o.jpg\n",
      "98 https://img.theqoo.net/img/EFUzZ.jpg\n",
      "99 https://www.dogdrip.net/dvs/d/22/10/12/785174df382a1d99782003f45d7f3508.jpg\n",
      "100 https://www.dogdrip.net/dvs/d/22/09/26/2f3037d5a4c2cb101d17971bce1489be.jpg\n"
     ]
    }
   ],
   "source": [
    "# 모든 사진의 링크 가져오기\n",
    "\n",
    "for i, link in enumerate(python_obj['items']):\n",
    "    print(i+1, link['link'])\n",
    "    "
   ]
  },
  {
   "cell_type": "markdown",
   "id": "9d017b79",
   "metadata": {},
   "source": [
    "### 모든 사진 저장하기"
   ]
  },
  {
   "cell_type": "code",
   "execution_count": 36,
   "id": "1c3debce",
   "metadata": {},
   "outputs": [
    {
     "name": "stdout",
     "output_type": "stream",
     "text": [
      "C:\\Users\\WSU\\Desktop\\뉴진스\\1.뉴진스.jpg\n"
     ]
    }
   ],
   "source": [
    "import requests\n",
    "import json\n",
    "import os\n",
    "\n",
    "client_id = \"q6hm9ud4FR9ByGXP0C1A\" # 내 클라이언트 id\n",
    "client_secret = \"YXinlHHrat\"        # 내 클라이언트 secret\n",
    "\n",
    "keyword = '뉴진스'\n",
    "display = 10# 한 번에 가져오는 사진의 개수\n",
    "start = 1 # 처음 시작하는 사진의 번호\n",
    "end = 50  # 전체 사진의 수\n",
    "n =1\n",
    "\n",
    "cwd = os.getcwd()\n",
    "save_path = cwd + f'\\\\{keyword}\\\\'\n",
    "\n",
    "if not os.path.exists(save_path):\n",
    "    os.mkdir(save_path)\n",
    "    \n",
    "file_path = os.path.join(save_path, f'{n}.{keyword}.jpg')\n",
    "print(file_path)"
   ]
  },
  {
   "cell_type": "code",
   "execution_count": 38,
   "id": "7a3650ca",
   "metadata": {},
   "outputs": [
    {
     "name": "stdout",
     "output_type": "stream",
     "text": [
      "31 번째 사진 다운로드\n",
      "32 번째 사진 다운로드\n",
      "33 번째 사진 다운로드\n",
      "34 번째 사진 다운로드\n",
      "35 번째 사진 다운로드\n",
      "36 번째 사진 다운로드\n",
      "37 번째 사진 다운로드\n",
      "38 번째 사진 다운로드\n",
      "39 번째 사진 다운로드\n",
      "40 번째 사진 다운로드\n",
      "41 번째 사진 다운로드\n",
      "42 번째 사진 다운로드\n",
      "43 번째 사진 다운로드\n",
      "44 번째 사진 다운로드\n",
      "45 번째 사진 다운로드\n",
      "46 번째 사진 다운로드\n",
      "47 번째 사진 다운로드\n",
      "48 번째 사진 다운로드\n",
      "49 번째 사진 다운로드\n",
      "50 번째 사진 다운로드\n",
      "51 번째 사진 다운로드\n",
      "52 번째 사진 다운로드\n",
      "53 번째 사진 다운로드\n",
      "54 번째 사진 다운로드\n",
      "55 번째 사진 다운로드\n",
      "56 번째 사진 다운로드\n",
      "57 번째 사진 다운로드\n",
      "58 번째 사진 다운로드\n",
      "59 번째 사진 다운로드\n",
      "60 번째 사진 다운로드\n"
     ]
    }
   ],
   "source": [
    "\n",
    "for i in range(start, end, display):\n",
    "    \n",
    "    url = f\"https://openapi.naver.com/v1/search/image?query={keyword}&display={display}&start={i}\"  \n",
    "    HEADERS = {\"X-Naver-Client-Id\": client_id, \"X-Naver-Client-Secret\":client_secret}\n",
    "    r = requests.get(url, headers=HEADERS)\n",
    "    python_obj = json.loads(r.text)\n",
    "    items = python_obj['items'] \n",
    "    \n",
    "    for j in range(len(items)):\n",
    "        img_url = items[j]['link']\n",
    "        img_file = requests.get(img_url)\n",
    "        \n",
    "        file_path = os.path.join(save_path, f'{n}.{keyword}.jpg')\n",
    "\n",
    "        with open(file_path, 'wb') as f:\n",
    "            f.write(img_file.content)\n",
    "            print(n, '번째 사진 다운로드')\n",
    "            n += 1"
   ]
  },
  {
   "cell_type": "code",
   "execution_count": 27,
   "id": "ead4cea8",
   "metadata": {},
   "outputs": [
    {
     "name": "stdout",
     "output_type": "stream",
     "text": [
      "1\n",
      "101\n",
      "201\n",
      "301\n",
      "401\n",
      "501\n",
      "601\n",
      "701\n",
      "801\n",
      "901\n"
     ]
    }
   ],
   "source": [
    "for i in range(1, 1000, 100):\n",
    "    print(i)"
   ]
  },
  {
   "cell_type": "code",
   "execution_count": 30,
   "id": "4666d9f4",
   "metadata": {},
   "outputs": [
    {
     "data": {
      "text/plain": [
       "'C:\\\\Users\\\\WSU\\\\Desktop'"
      ]
     },
     "execution_count": 30,
     "metadata": {},
     "output_type": "execute_result"
    }
   ],
   "source": [
    "#현재경로\n",
    "os.getcwd()"
   ]
  },
  {
   "cell_type": "code",
   "execution_count": 32,
   "id": "cb182b11",
   "metadata": {},
   "outputs": [],
   "source": [
    "# 경로생성\n",
    "os.mkdir('C:\\\\Users\\\\WSU\\\\Desktop\\\\뭘만들까')"
   ]
  },
  {
   "cell_type": "code",
   "execution_count": null,
   "id": "8a9abf43",
   "metadata": {},
   "outputs": [],
   "source": []
  }
 ],
 "metadata": {
  "kernelspec": {
   "display_name": "Python 3 (ipykernel)",
   "language": "python",
   "name": "python3"
  },
  "language_info": {
   "codemirror_mode": {
    "name": "ipython",
    "version": 3
   },
   "file_extension": ".py",
   "mimetype": "text/x-python",
   "name": "python",
   "nbconvert_exporter": "python",
   "pygments_lexer": "ipython3",
   "version": "3.9.12"
  }
 },
 "nbformat": 4,
 "nbformat_minor": 5
}
