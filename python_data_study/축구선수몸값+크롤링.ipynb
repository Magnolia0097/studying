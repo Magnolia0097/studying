{
 "cells": [
  {
   "cell_type": "code",
   "execution_count": 4,
   "id": "aaf57f45",
   "metadata": {},
   "outputs": [],
   "source": [
    "url = 'https://www.transfermarkt.com/spieler-statistik/wertvollstespieler/marktwertetop'"
   ]
  },
  {
   "cell_type": "code",
   "execution_count": 105,
   "id": "2814fd68",
   "metadata": {},
   "outputs": [],
   "source": [
    "import requests\n",
    "from bs4 import BeautifulSoup as bs\n",
    "import pandas as pd\n",
    "import time\n",
    "\n",
    "def get_soup(url):\n",
    "    \n",
    "\n",
    "    \n",
    "    HEADERS = {'User-agent':'Mozilla/5.0 (Windows NT 10.0; Win64; x64) AppleWebKit/537.36 (KHTML, like Gecko) Chrome/106.0.0.0 Safari/537.36'}\n",
    "    r = requests.get(url, headers=HEADERS)\n",
    "    \n",
    "    if r.status_code == 200:\n",
    "        print('OK')\n",
    "        soup = bs(r.text, 'html.parser')\n",
    "        \n",
    "    return soup"
   ]
  },
  {
   "cell_type": "code",
   "execution_count": 6,
   "id": "54b17069",
   "metadata": {},
   "outputs": [
    {
     "name": "stdout",
     "output_type": "stream",
     "text": [
      "OK\n"
     ]
    }
   ],
   "source": [
    "soup = get_soup(url)"
   ]
  },
  {
   "cell_type": "code",
   "execution_count": 7,
   "id": "30bd7124",
   "metadata": {},
   "outputs": [],
   "source": [
    "players = soup.find_all('tr', class_= ['odd', 'even'])"
   ]
  },
  {
   "cell_type": "code",
   "execution_count": 8,
   "id": "08b9b3a5",
   "metadata": {},
   "outputs": [
    {
     "data": {
      "text/plain": [
       "25"
      ]
     },
     "execution_count": 8,
     "metadata": {},
     "output_type": "execute_result"
    }
   ],
   "source": [
    "len(players)"
   ]
  },
  {
   "cell_type": "code",
   "execution_count": 9,
   "id": "3dfb954c",
   "metadata": {},
   "outputs": [
    {
     "data": {
      "text/plain": [
       "<tr class=\"odd\">\n",
       "<td class=\"zentriert\">1</td><td class=\"\"><table class=\"inline-table\"><tr><td rowspan=\"2\"><a href=\"#\"><img alt=\"Kylian Mbappé\" class=\"bilderrahmen-fixed\" src=\"https://img.a.transfermarkt.technology/portrait/small/342229-1632686046.jpg?lm=1\" title=\"Kylian Mbappé\"/></a></td><td class=\"hauptlink\"><a href=\"/kylian-mbappe/profil/spieler/342229\" title=\"Kylian Mbappé\">Kylian Mbappé</a></td></tr><tr><td>Centre-Forward</td></tr></table></td><td class=\"zentriert\">23</td><td class=\"zentriert\"><img alt=\"France\" class=\"flaggenrahmen\" src=\"https://tmssl.akamaized.net/images/flagge/verysmall/50.png?lm=1520611569\" title=\"France\"/></td><td class=\"zentriert\"><a href=\"/fc-paris-saint-germain/startseite/verein/583\" title=\"Paris Saint-Germain\"><img alt=\"Paris Saint-Germain\" class=\"\" src=\"https://tmssl.akamaized.net/images/wappen/verysmall/583.png?lm=1522312728\" title=\"Paris Saint-Germain\"/></a></td><td class=\"rechts hauptlink\"><a href=\"/kylian-mbappe/marktwertverlauf/spieler/342229\">€160.00m</a> </td></tr>"
      ]
     },
     "execution_count": 9,
     "metadata": {},
     "output_type": "execute_result"
    }
   ],
   "source": [
    "players[0]"
   ]
  },
  {
   "cell_type": "code",
   "execution_count": 115,
   "id": "5c97b628",
   "metadata": {},
   "outputs": [
    {
     "data": {
      "text/plain": [
       "'1'"
      ]
     },
     "execution_count": 115,
     "metadata": {},
     "output_type": "execute_result"
    }
   ],
   "source": [
    "# 순위\n",
    "players[0].find_all('td')[0].text"
   ]
  },
  {
   "cell_type": "code",
   "execution_count": 116,
   "id": "9a49a183",
   "metadata": {},
   "outputs": [
    {
     "data": {
      "text/plain": [
       "'Kylian Mbappé'"
      ]
     },
     "execution_count": 116,
     "metadata": {},
     "output_type": "execute_result"
    }
   ],
   "source": [
    "# 이름\n",
    "players[0].find_all('td')[3].text"
   ]
  },
  {
   "cell_type": "code",
   "execution_count": 117,
   "id": "a44908eb",
   "metadata": {},
   "outputs": [
    {
     "data": {
      "text/plain": [
       "'Centre-Forward'"
      ]
     },
     "execution_count": 117,
     "metadata": {},
     "output_type": "execute_result"
    }
   ],
   "source": [
    "# 포지션\n",
    "players[0].find_all('td')[4].text"
   ]
  },
  {
   "cell_type": "code",
   "execution_count": 118,
   "id": "f3c3323b",
   "metadata": {},
   "outputs": [
    {
     "data": {
      "text/plain": [
       "'23'"
      ]
     },
     "execution_count": 118,
     "metadata": {},
     "output_type": "execute_result"
    }
   ],
   "source": [
    "# 나이\n",
    "players[0].find_all('td')[5].text"
   ]
  },
  {
   "cell_type": "code",
   "execution_count": 178,
   "id": "dc78a915",
   "metadata": {},
   "outputs": [
    {
     "data": {
      "text/plain": [
       "<img alt=\"France\" class=\"flaggenrahmen\" src=\"https://tmssl.akamaized.net/images/flagge/verysmall/50.png?lm=1520611569\" title=\"France\"/>"
      ]
     },
     "execution_count": 178,
     "metadata": {},
     "output_type": "execute_result"
    }
   ],
   "source": [
    "players[0].find_all('td')[6].find('img')"
   ]
  },
  {
   "cell_type": "code",
   "execution_count": 179,
   "id": "e33da32b",
   "metadata": {},
   "outputs": [
    {
     "data": {
      "text/plain": [
       "'France'"
      ]
     },
     "execution_count": 179,
     "metadata": {},
     "output_type": "execute_result"
    }
   ],
   "source": [
    "players[0].find_all('td')[6].find('img')['alt']"
   ]
  },
  {
   "cell_type": "code",
   "execution_count": 184,
   "id": "526f5f8e",
   "metadata": {},
   "outputs": [
    {
     "data": {
      "text/plain": [
       "'England'"
      ]
     },
     "execution_count": 184,
     "metadata": {},
     "output_type": "execute_result"
    }
   ],
   "source": [
    "players[1].find_all('td')[6].find_all('img')[1]['alt']"
   ]
  },
  {
   "cell_type": "code",
   "execution_count": 158,
   "id": "6ad29b77",
   "metadata": {},
   "outputs": [
    {
     "data": {
      "text/plain": [
       "'France'"
      ]
     },
     "execution_count": 158,
     "metadata": {},
     "output_type": "execute_result"
    }
   ],
   "source": [
    "# players[0].find_all('td')[6].find('img')['alt']\n",
    "# 첫번째 선수의 첫번째 국적\n",
    "nation = players[0].find_all('td')[6].find_all('img')[0]['alt']\n",
    "nation"
   ]
  },
  {
   "cell_type": "code",
   "execution_count": 159,
   "id": "ae913cde",
   "metadata": {},
   "outputs": [
    {
     "data": {
      "text/plain": [
       "'England'"
      ]
     },
     "execution_count": 159,
     "metadata": {},
     "output_type": "execute_result"
    }
   ],
   "source": [
    "# players[1] 두번째 선수의 find_all('img') 두번째 국적\n",
    "nation = players[1].find_all('td')[6].find_all('img')[1]['alt']\n",
    "nation"
   ]
  },
  {
   "cell_type": "code",
   "execution_count": 164,
   "id": "434f4cbf",
   "metadata": {},
   "outputs": [
    {
     "data": {
      "text/plain": [
       "2"
      ]
     },
     "execution_count": 164,
     "metadata": {},
     "output_type": "execute_result"
    }
   ],
   "source": [
    "# player[2] 세번째 선수 국적 수\n",
    "nation_list = players[1].find_all('td')[6].find_all('img')\n",
    "len(nation_list)"
   ]
  },
  {
   "cell_type": "code",
   "execution_count": 165,
   "id": "534f0f1b",
   "metadata": {},
   "outputs": [
    {
     "name": "stdout",
     "output_type": "stream",
     "text": [
      "Norway\n",
      "England\n"
     ]
    }
   ],
   "source": [
    "# 세번째 선수의 모든 국적\n",
    "for i in nation_list:\n",
    "    print(i['alt'])  "
   ]
  },
  {
   "cell_type": "markdown",
   "id": "d2a54d9c",
   "metadata": {},
   "source": [
    "### 선수들의 국적 모두 가져오기"
   ]
  },
  {
   "cell_type": "code",
   "execution_count": 172,
   "id": "d304f71f",
   "metadata": {},
   "outputs": [
    {
     "name": "stdout",
     "output_type": "stream",
     "text": [
      "['France', 'Norway', 'England', 'Brazil', 'Spain', 'Spain', 'England', 'England', 'Egypt', 'England', 'Serbia', 'Portugal', 'Belgium', 'Germany', 'England', 'France', 'Cameroon', 'Uruguay', 'Spain', 'England', 'Ireland', 'Spain', 'France', 'DR Congo', 'England', 'Portugal', 'Germany', 'Brazil', 'Colombia', 'Argentina', 'England', 'Trinidad and Tobago', 'England']\n",
      "33\n"
     ]
    }
   ],
   "source": [
    "# 이렇게 하면 되겠지?!\n",
    "\n",
    "nation =[]\n",
    "\n",
    "for player in players:\n",
    "    \n",
    "    td = player.find_all('td')\n",
    "    \n",
    "    nation_list = td[6].find_all('img') \n",
    "    \n",
    "    for i in nation_list:\n",
    "        nation.append(i['title'])\n",
    "        \n",
    "print(nation)\n",
    "print(len(nation))"
   ]
  },
  {
   "cell_type": "code",
   "execution_count": null,
   "id": "0e10b1fd",
   "metadata": {},
   "outputs": [],
   "source": []
  },
  {
   "cell_type": "code",
   "execution_count": null,
   "id": "60e7c05b",
   "metadata": {},
   "outputs": [],
   "source": []
  },
  {
   "cell_type": "code",
   "execution_count": null,
   "id": "3219b99f",
   "metadata": {},
   "outputs": [],
   "source": []
  },
  {
   "cell_type": "code",
   "execution_count": null,
   "id": "dbcce92e",
   "metadata": {},
   "outputs": [],
   "source": []
  },
  {
   "cell_type": "code",
   "execution_count": 65,
   "id": "0195536b",
   "metadata": {},
   "outputs": [
    {
     "data": {
      "text/plain": [
       "'Paris Saint-Germain'"
      ]
     },
     "execution_count": 65,
     "metadata": {},
     "output_type": "execute_result"
    }
   ],
   "source": [
    "# 팀\n",
    "players[0].find_all('td')[7].find('img')['alt']"
   ]
  },
  {
   "cell_type": "code",
   "execution_count": 68,
   "id": "eee511d4",
   "metadata": {},
   "outputs": [
    {
     "data": {
      "text/plain": [
       "'€160.00m'"
      ]
     },
     "execution_count": 68,
     "metadata": {},
     "output_type": "execute_result"
    }
   ],
   "source": [
    "# 시장가치\n",
    "players[0].find_all('td')[8].text.strip()"
   ]
  },
  {
   "cell_type": "code",
   "execution_count": 12,
   "id": "a0022b1a",
   "metadata": {},
   "outputs": [
    {
     "data": {
      "text/plain": [
       "'1'"
      ]
     },
     "execution_count": 12,
     "metadata": {},
     "output_type": "execute_result"
    }
   ],
   "source": [
    "number = players[0].find_all('td')[0].text\n",
    "number"
   ]
  },
  {
   "cell_type": "code",
   "execution_count": 29,
   "id": "36da3b0b",
   "metadata": {},
   "outputs": [
    {
     "data": {
      "text/plain": [
       "'1'"
      ]
     },
     "execution_count": 29,
     "metadata": {},
     "output_type": "execute_result"
    }
   ],
   "source": [
    "number = players[0].find_all('td', class_='zentriert')[0].text\n",
    "number"
   ]
  },
  {
   "cell_type": "code",
   "execution_count": 51,
   "id": "43618912",
   "metadata": {},
   "outputs": [
    {
     "data": {
      "text/plain": [
       "<td class=\"zentriert\"><img alt=\"France\" class=\"flaggenrahmen\" src=\"https://tmssl.akamaized.net/images/flagge/verysmall/50.png?lm=1520611569\" title=\"France\"/></td>"
      ]
     },
     "execution_count": 51,
     "metadata": {},
     "output_type": "execute_result"
    }
   ],
   "source": []
  },
  {
   "cell_type": "code",
   "execution_count": 43,
   "id": "b3af2e42",
   "metadata": {},
   "outputs": [
    {
     "data": {
      "text/plain": [
       "'Kylian Mbappé'"
      ]
     },
     "execution_count": 43,
     "metadata": {},
     "output_type": "execute_result"
    }
   ],
   "source": [
    "name = players[0].find_all('td')[1].find('img')['title']\n",
    "name"
   ]
  },
  {
   "cell_type": "code",
   "execution_count": 16,
   "id": "f87fa795",
   "metadata": {},
   "outputs": [
    {
     "data": {
      "text/plain": [
       "'Kylian Mbappé'"
      ]
     },
     "execution_count": 16,
     "metadata": {},
     "output_type": "execute_result"
    }
   ],
   "source": [
    "name = players[0].find_all('td')[1].find_all('tr')[0].text\n",
    "name"
   ]
  },
  {
   "cell_type": "code",
   "execution_count": 42,
   "id": "5fe8f5e6",
   "metadata": {},
   "outputs": [
    {
     "data": {
      "text/plain": [
       "'Kylian Mbappé'"
      ]
     },
     "execution_count": 42,
     "metadata": {},
     "output_type": "execute_result"
    }
   ],
   "source": [
    "name = players[0].find_all('td')[2].find('img')['alt']\n",
    "name"
   ]
  },
  {
   "cell_type": "code",
   "execution_count": 19,
   "id": "babe8e7c",
   "metadata": {},
   "outputs": [
    {
     "data": {
      "text/plain": [
       "'Centre-Forward'"
      ]
     },
     "execution_count": 19,
     "metadata": {},
     "output_type": "execute_result"
    }
   ],
   "source": [
    "position= players[0].find_all('td')[1].find_all('tr')[1].text\n",
    "position"
   ]
  },
  {
   "cell_type": "code",
   "execution_count": 30,
   "id": "7056f016",
   "metadata": {},
   "outputs": [
    {
     "data": {
      "text/plain": [
       "'23'"
      ]
     },
     "execution_count": 30,
     "metadata": {},
     "output_type": "execute_result"
    }
   ],
   "source": [
    "age = players[0].find_all('td', class_='zentriert')[1].text\n",
    "age"
   ]
  },
  {
   "cell_type": "code",
   "execution_count": 32,
   "id": "05502994",
   "metadata": {},
   "outputs": [
    {
     "data": {
      "text/plain": [
       "'France'"
      ]
     },
     "execution_count": 32,
     "metadata": {},
     "output_type": "execute_result"
    }
   ],
   "source": [
    "nation = players[0].find_all('td', class_='zentriert')[2].find('img')['alt']\n",
    "nation"
   ]
  },
  {
   "cell_type": "code",
   "execution_count": 34,
   "id": "84f9a7be",
   "metadata": {},
   "outputs": [
    {
     "data": {
      "text/plain": [
       "'Paris Saint-Germain'"
      ]
     },
     "execution_count": 34,
     "metadata": {},
     "output_type": "execute_result"
    }
   ],
   "source": [
    "team = players[0].find_all('td', class_='zentriert')[3].find('img')['alt']\n",
    "team"
   ]
  },
  {
   "cell_type": "code",
   "execution_count": 45,
   "id": "5c4b23f9",
   "metadata": {},
   "outputs": [
    {
     "data": {
      "text/plain": [
       "'€160.00m'"
      ]
     },
     "execution_count": 45,
     "metadata": {},
     "output_type": "execute_result"
    }
   ],
   "source": [
    "value = players[0].find(class_='rechts hauptlink').text.strip()\n",
    "value"
   ]
  },
  {
   "cell_type": "code",
   "execution_count": 174,
   "id": "8ad0f76e",
   "metadata": {},
   "outputs": [],
   "source": [
    "# 이렇게 하면 안될 이유가 없지 않나?!\n",
    "number=[]\n",
    "name=[]\n",
    "position=[]\n",
    "age=[]\n",
    "nation=[]\n",
    "team=[]\n",
    "value=[]\n",
    "\n",
    "for player in players:\n",
    "    td = player.find_all('td')\n",
    "    \n",
    "    number.append(td[0].text)\n",
    "    name.append(td[3].text)\n",
    "    position.append(td[4].text)\n",
    "    age.append(td[5].text)\n",
    "    \n",
    "    nation_list = td[6].find_all('img') \n",
    "    \n",
    "    for i in nation_list:\n",
    "        nation.append(i['title'])\n",
    "\n",
    "    team.append(td[7].img['alt'])\n",
    "    value.append(td[8].text.strip())"
   ]
  },
  {
   "cell_type": "code",
   "execution_count": 195,
   "id": "27f6348f",
   "metadata": {},
   "outputs": [
    {
     "name": "stdout",
     "output_type": "stream",
     "text": [
      "OK\n"
     ]
    }
   ],
   "source": [
    "number=[]\n",
    "name=[]\n",
    "position=[]\n",
    "age=[]\n",
    "nation=[]\n",
    "team=[]\n",
    "value=[]\n",
    "\n",
    "soup = get_soup(url)\n",
    "players = soup.find_all('tr', class_= ['odd', 'even'])\n",
    "\n",
    "for player in players:\n",
    "    td = player.find_all('td')\n",
    "    \n",
    "    number.append(td[0].text)\n",
    "    name.append(td[3].text)\n",
    "    position.append(td[4].text)\n",
    "    age.append(td[5].text)\n",
    "   \n",
    "    nation_list = td[6].find_all('img')\n",
    "    nation_=[]\n",
    "    for i in nation_list:\n",
    "        nation_.append(i['title'])\n",
    "    nation.append(', '.join(nation_))\n",
    "\n",
    "    team.append(td[7].img['alt'])\n",
    "    value.append(td[8].text.strip())"
   ]
  },
  {
   "cell_type": "code",
   "execution_count": 188,
   "id": "da9c6dec",
   "metadata": {},
   "outputs": [],
   "source": [
    "# 문자열, 리스트 연습\n",
    "\n",
    "\n",
    "birthday = '71/10/22'\n",
    "a = birthday.split('/')"
   ]
  },
  {
   "cell_type": "code",
   "execution_count": 190,
   "id": "52c23059",
   "metadata": {},
   "outputs": [
    {
     "data": {
      "text/plain": [
       "'71,10,22'"
      ]
     },
     "execution_count": 190,
     "metadata": {},
     "output_type": "execute_result"
    }
   ],
   "source": [
    "','.join(a)"
   ]
  },
  {
   "cell_type": "code",
   "execution_count": null,
   "id": "f5f2a98d",
   "metadata": {},
   "outputs": [],
   "source": []
  },
  {
   "cell_type": "code",
   "execution_count": 196,
   "id": "8762c7b3",
   "metadata": {},
   "outputs": [
    {
     "data": {
      "text/html": [
       "<div>\n",
       "<style scoped>\n",
       "    .dataframe tbody tr th:only-of-type {\n",
       "        vertical-align: middle;\n",
       "    }\n",
       "\n",
       "    .dataframe tbody tr th {\n",
       "        vertical-align: top;\n",
       "    }\n",
       "\n",
       "    .dataframe thead th {\n",
       "        text-align: right;\n",
       "    }\n",
       "</style>\n",
       "<table border=\"1\" class=\"dataframe\">\n",
       "  <thead>\n",
       "    <tr style=\"text-align: right;\">\n",
       "      <th></th>\n",
       "      <th>number</th>\n",
       "      <th>name</th>\n",
       "      <th>postion</th>\n",
       "      <th>age</th>\n",
       "      <th>nation</th>\n",
       "      <th>team</th>\n",
       "      <th>value</th>\n",
       "    </tr>\n",
       "  </thead>\n",
       "  <tbody>\n",
       "    <tr>\n",
       "      <th>0</th>\n",
       "      <td>1</td>\n",
       "      <td>Kylian Mbappé</td>\n",
       "      <td>Centre-Forward</td>\n",
       "      <td>23</td>\n",
       "      <td>France</td>\n",
       "      <td>Paris Saint-Germain</td>\n",
       "      <td>€160.00m</td>\n",
       "    </tr>\n",
       "    <tr>\n",
       "      <th>1</th>\n",
       "      <td>2</td>\n",
       "      <td>Erling Haaland</td>\n",
       "      <td>Centre-Forward</td>\n",
       "      <td>22</td>\n",
       "      <td>Norway, England</td>\n",
       "      <td>Manchester City</td>\n",
       "      <td>€150.00m</td>\n",
       "    </tr>\n",
       "    <tr>\n",
       "      <th>2</th>\n",
       "      <td>3</td>\n",
       "      <td>Vinicius Junior</td>\n",
       "      <td>Left Winger</td>\n",
       "      <td>22</td>\n",
       "      <td>Brazil, Spain</td>\n",
       "      <td>Real Madrid</td>\n",
       "      <td>€120.00m</td>\n",
       "    </tr>\n",
       "    <tr>\n",
       "      <th>3</th>\n",
       "      <td>4</td>\n",
       "      <td>Pedri</td>\n",
       "      <td>Central Midfield</td>\n",
       "      <td>19</td>\n",
       "      <td>Spain</td>\n",
       "      <td>FC Barcelona</td>\n",
       "      <td>€90.00m</td>\n",
       "    </tr>\n",
       "    <tr>\n",
       "      <th>4</th>\n",
       "      <td>5</td>\n",
       "      <td>Jude Bellingham</td>\n",
       "      <td>Central Midfield</td>\n",
       "      <td>19</td>\n",
       "      <td>England</td>\n",
       "      <td>Borussia Dortmund</td>\n",
       "      <td>€90.00m</td>\n",
       "    </tr>\n",
       "    <tr>\n",
       "      <th>5</th>\n",
       "      <td>6</td>\n",
       "      <td>Phil Foden</td>\n",
       "      <td>Central Midfield</td>\n",
       "      <td>22</td>\n",
       "      <td>England</td>\n",
       "      <td>Manchester City</td>\n",
       "      <td>€90.00m</td>\n",
       "    </tr>\n",
       "    <tr>\n",
       "      <th>6</th>\n",
       "      <td>7</td>\n",
       "      <td>Mohamed Salah</td>\n",
       "      <td>Right Winger</td>\n",
       "      <td>30</td>\n",
       "      <td>Egypt</td>\n",
       "      <td>Liverpool FC</td>\n",
       "      <td>€90.00m</td>\n",
       "    </tr>\n",
       "    <tr>\n",
       "      <th>7</th>\n",
       "      <td>8</td>\n",
       "      <td>Harry Kane</td>\n",
       "      <td>Centre-Forward</td>\n",
       "      <td>29</td>\n",
       "      <td>England</td>\n",
       "      <td>Tottenham Hotspur</td>\n",
       "      <td>€90.00m</td>\n",
       "    </tr>\n",
       "    <tr>\n",
       "      <th>8</th>\n",
       "      <td>9</td>\n",
       "      <td>Dušan Vlahović</td>\n",
       "      <td>Centre-Forward</td>\n",
       "      <td>22</td>\n",
       "      <td>Serbia</td>\n",
       "      <td>Juventus FC</td>\n",
       "      <td>€85.00m</td>\n",
       "    </tr>\n",
       "    <tr>\n",
       "      <th>9</th>\n",
       "      <td>10</td>\n",
       "      <td>Bruno Fernandes</td>\n",
       "      <td>Attacking Midfield</td>\n",
       "      <td>28</td>\n",
       "      <td>Portugal</td>\n",
       "      <td>Manchester United</td>\n",
       "      <td>€85.00m</td>\n",
       "    </tr>\n",
       "    <tr>\n",
       "      <th>10</th>\n",
       "      <td>11</td>\n",
       "      <td>Kevin De Bruyne</td>\n",
       "      <td>Attacking Midfield</td>\n",
       "      <td>31</td>\n",
       "      <td>Belgium</td>\n",
       "      <td>Manchester City</td>\n",
       "      <td>€85.00m</td>\n",
       "    </tr>\n",
       "    <tr>\n",
       "      <th>11</th>\n",
       "      <td>12</td>\n",
       "      <td>Jamal Musiala</td>\n",
       "      <td>Attacking Midfield</td>\n",
       "      <td>19</td>\n",
       "      <td>Germany, England</td>\n",
       "      <td>Bayern Munich</td>\n",
       "      <td>€80.00m</td>\n",
       "    </tr>\n",
       "    <tr>\n",
       "      <th>12</th>\n",
       "      <td>13</td>\n",
       "      <td>Aurélien Tchouameni</td>\n",
       "      <td>Defensive Midfield</td>\n",
       "      <td>22</td>\n",
       "      <td>France, Cameroon</td>\n",
       "      <td>Real Madrid</td>\n",
       "      <td>€80.00m</td>\n",
       "    </tr>\n",
       "    <tr>\n",
       "      <th>13</th>\n",
       "      <td>14</td>\n",
       "      <td>Federico Valverde</td>\n",
       "      <td>Central Midfield</td>\n",
       "      <td>24</td>\n",
       "      <td>Uruguay, Spain</td>\n",
       "      <td>Real Madrid</td>\n",
       "      <td>€80.00m</td>\n",
       "    </tr>\n",
       "    <tr>\n",
       "      <th>14</th>\n",
       "      <td>15</td>\n",
       "      <td>Declan Rice</td>\n",
       "      <td>Defensive Midfield</td>\n",
       "      <td>23</td>\n",
       "      <td>England, Ireland</td>\n",
       "      <td>West Ham United</td>\n",
       "      <td>€80.00m</td>\n",
       "    </tr>\n",
       "    <tr>\n",
       "      <th>15</th>\n",
       "      <td>16</td>\n",
       "      <td>Rodri</td>\n",
       "      <td>Defensive Midfield</td>\n",
       "      <td>26</td>\n",
       "      <td>Spain</td>\n",
       "      <td>Manchester City</td>\n",
       "      <td>€80.00m</td>\n",
       "    </tr>\n",
       "    <tr>\n",
       "      <th>16</th>\n",
       "      <td>17</td>\n",
       "      <td>Christopher Nkunku</td>\n",
       "      <td>Second Striker</td>\n",
       "      <td>24</td>\n",
       "      <td>France, DR Congo</td>\n",
       "      <td>RB Leipzig</td>\n",
       "      <td>€80.00m</td>\n",
       "    </tr>\n",
       "    <tr>\n",
       "      <th>17</th>\n",
       "      <td>18</td>\n",
       "      <td>Trent Alexander-Arnold</td>\n",
       "      <td>Right-Back</td>\n",
       "      <td>24</td>\n",
       "      <td>England</td>\n",
       "      <td>Liverpool FC</td>\n",
       "      <td>€80.00m</td>\n",
       "    </tr>\n",
       "    <tr>\n",
       "      <th>18</th>\n",
       "      <td>19</td>\n",
       "      <td>Bernardo Silva</td>\n",
       "      <td>Attacking Midfield</td>\n",
       "      <td>28</td>\n",
       "      <td>Portugal</td>\n",
       "      <td>Manchester City</td>\n",
       "      <td>€80.00m</td>\n",
       "    </tr>\n",
       "    <tr>\n",
       "      <th>19</th>\n",
       "      <td>20</td>\n",
       "      <td>Joshua Kimmich</td>\n",
       "      <td>Defensive Midfield</td>\n",
       "      <td>27</td>\n",
       "      <td>Germany</td>\n",
       "      <td>Bayern Munich</td>\n",
       "      <td>€80.00m</td>\n",
       "    </tr>\n",
       "    <tr>\n",
       "      <th>20</th>\n",
       "      <td>21</td>\n",
       "      <td>Antony</td>\n",
       "      <td>Right Winger</td>\n",
       "      <td>22</td>\n",
       "      <td>Brazil</td>\n",
       "      <td>Manchester United</td>\n",
       "      <td>€75.00m</td>\n",
       "    </tr>\n",
       "    <tr>\n",
       "      <th>21</th>\n",
       "      <td>22</td>\n",
       "      <td>Luis Díaz</td>\n",
       "      <td>Left Winger</td>\n",
       "      <td>25</td>\n",
       "      <td>Colombia</td>\n",
       "      <td>Liverpool FC</td>\n",
       "      <td>€75.00m</td>\n",
       "    </tr>\n",
       "    <tr>\n",
       "      <th>22</th>\n",
       "      <td>23</td>\n",
       "      <td>Lautaro Martínez</td>\n",
       "      <td>Centre-Forward</td>\n",
       "      <td>25</td>\n",
       "      <td>Argentina</td>\n",
       "      <td>Inter Milan</td>\n",
       "      <td>€75.00m</td>\n",
       "    </tr>\n",
       "    <tr>\n",
       "      <th>23</th>\n",
       "      <td>24</td>\n",
       "      <td>Jadon Sancho</td>\n",
       "      <td>Left Winger</td>\n",
       "      <td>22</td>\n",
       "      <td>England, Trinidad and Tobago</td>\n",
       "      <td>Manchester United</td>\n",
       "      <td>€75.00m</td>\n",
       "    </tr>\n",
       "    <tr>\n",
       "      <th>24</th>\n",
       "      <td>25</td>\n",
       "      <td>Mason Mount</td>\n",
       "      <td>Attacking Midfield</td>\n",
       "      <td>23</td>\n",
       "      <td>England</td>\n",
       "      <td>Chelsea FC</td>\n",
       "      <td>€75.00m</td>\n",
       "    </tr>\n",
       "  </tbody>\n",
       "</table>\n",
       "</div>"
      ],
      "text/plain": [
       "   number                    name             postion age  \\\n",
       "0       1           Kylian Mbappé      Centre-Forward  23   \n",
       "1       2          Erling Haaland      Centre-Forward  22   \n",
       "2       3         Vinicius Junior         Left Winger  22   \n",
       "3       4                   Pedri    Central Midfield  19   \n",
       "4       5         Jude Bellingham    Central Midfield  19   \n",
       "5       6              Phil Foden    Central Midfield  22   \n",
       "6       7           Mohamed Salah        Right Winger  30   \n",
       "7       8              Harry Kane      Centre-Forward  29   \n",
       "8       9          Dušan Vlahović      Centre-Forward  22   \n",
       "9      10         Bruno Fernandes  Attacking Midfield  28   \n",
       "10     11         Kevin De Bruyne  Attacking Midfield  31   \n",
       "11     12           Jamal Musiala  Attacking Midfield  19   \n",
       "12     13     Aurélien Tchouameni  Defensive Midfield  22   \n",
       "13     14       Federico Valverde    Central Midfield  24   \n",
       "14     15             Declan Rice  Defensive Midfield  23   \n",
       "15     16                   Rodri  Defensive Midfield  26   \n",
       "16     17      Christopher Nkunku      Second Striker  24   \n",
       "17     18  Trent Alexander-Arnold          Right-Back  24   \n",
       "18     19          Bernardo Silva  Attacking Midfield  28   \n",
       "19     20          Joshua Kimmich  Defensive Midfield  27   \n",
       "20     21                  Antony        Right Winger  22   \n",
       "21     22               Luis Díaz         Left Winger  25   \n",
       "22     23        Lautaro Martínez      Centre-Forward  25   \n",
       "23     24            Jadon Sancho         Left Winger  22   \n",
       "24     25             Mason Mount  Attacking Midfield  23   \n",
       "\n",
       "                          nation                 team     value  \n",
       "0                         France  Paris Saint-Germain  €160.00m  \n",
       "1                Norway, England      Manchester City  €150.00m  \n",
       "2                  Brazil, Spain          Real Madrid  €120.00m  \n",
       "3                          Spain         FC Barcelona   €90.00m  \n",
       "4                        England    Borussia Dortmund   €90.00m  \n",
       "5                        England      Manchester City   €90.00m  \n",
       "6                          Egypt         Liverpool FC   €90.00m  \n",
       "7                        England    Tottenham Hotspur   €90.00m  \n",
       "8                         Serbia          Juventus FC   €85.00m  \n",
       "9                       Portugal    Manchester United   €85.00m  \n",
       "10                       Belgium      Manchester City   €85.00m  \n",
       "11              Germany, England        Bayern Munich   €80.00m  \n",
       "12              France, Cameroon          Real Madrid   €80.00m  \n",
       "13                Uruguay, Spain          Real Madrid   €80.00m  \n",
       "14              England, Ireland      West Ham United   €80.00m  \n",
       "15                         Spain      Manchester City   €80.00m  \n",
       "16              France, DR Congo           RB Leipzig   €80.00m  \n",
       "17                       England         Liverpool FC   €80.00m  \n",
       "18                      Portugal      Manchester City   €80.00m  \n",
       "19                       Germany        Bayern Munich   €80.00m  \n",
       "20                        Brazil    Manchester United   €75.00m  \n",
       "21                      Colombia         Liverpool FC   €75.00m  \n",
       "22                     Argentina          Inter Milan   €75.00m  \n",
       "23  England, Trinidad and Tobago    Manchester United   €75.00m  \n",
       "24                       England           Chelsea FC   €75.00m  "
      ]
     },
     "execution_count": 196,
     "metadata": {},
     "output_type": "execute_result"
    }
   ],
   "source": [
    "df = pd.DataFrame(\n",
    "    {'number':number,\n",
    "    'name': name,\n",
    "    'postion': position,\n",
    "    'age': age,\n",
    "    'nation': nation,\n",
    "    'team': team,\n",
    "    'value': value}\n",
    ")\n",
    "df"
   ]
  },
  {
   "cell_type": "markdown",
   "id": "10991e68",
   "metadata": {},
   "source": [
    "df.to_excel('transfermarkt25.xlsx', index=False)"
   ]
  },
  {
   "cell_type": "markdown",
   "id": "f1f8f3cc",
   "metadata": {},
   "source": [
    "### 축구선수 50명 몸값 수집 (여러 페이지 크롤링)"
   ]
  },
  {
   "cell_type": "code",
   "execution_count": 206,
   "id": "961e99ca",
   "metadata": {},
   "outputs": [
    {
     "name": "stdout",
     "output_type": "stream",
     "text": [
      "OK\n",
      "OK\n"
     ]
    }
   ],
   "source": [
    "number=[]\n",
    "name=[]\n",
    "position=[]\n",
    "age=[]\n",
    "nation=[]\n",
    "team=[]\n",
    "value=[]\n",
    "\n",
    "for i in range(1,3):\n",
    "    \n",
    "    url = f'https://www.transfermarkt.com/spieler-statistik/wertvollstespieler/\\\n",
    "marktwertetop?ajax=yw1&page={i}'\n",
    "    \n",
    "\n",
    "\n",
    "    soup = get_soup(url)\n",
    "    players = soup.find_all('tr', class_= ['odd', 'even'])\n",
    "\n",
    "    for player in players:\n",
    "        td = player.find_all('td')\n",
    "\n",
    "        number.append(td[0].text)\n",
    "        name.append(td[3].text)\n",
    "        position.append(td[4].text)\n",
    "        age.append(td[5].text)\n",
    "\n",
    "        nation_list = td[6].find_all('img')\n",
    "        nation_=[]\n",
    "        for i in nation_list:\n",
    "            nation_.append(i['title'])\n",
    "        nation.append(', '.join(nation_))\n",
    "\n",
    "        team.append(td[7].img['alt'])\n",
    "        value.append(td[8].text.strip())\n",
    "        \n",
    "    time.sleep(0.5)\n",
    "\n",
    "  "
   ]
  },
  {
   "cell_type": "code",
   "execution_count": 207,
   "id": "28dd9830",
   "metadata": {},
   "outputs": [
    {
     "data": {
      "text/html": [
       "<div>\n",
       "<style scoped>\n",
       "    .dataframe tbody tr th:only-of-type {\n",
       "        vertical-align: middle;\n",
       "    }\n",
       "\n",
       "    .dataframe tbody tr th {\n",
       "        vertical-align: top;\n",
       "    }\n",
       "\n",
       "    .dataframe thead th {\n",
       "        text-align: right;\n",
       "    }\n",
       "</style>\n",
       "<table border=\"1\" class=\"dataframe\">\n",
       "  <thead>\n",
       "    <tr style=\"text-align: right;\">\n",
       "      <th></th>\n",
       "      <th>number</th>\n",
       "      <th>name</th>\n",
       "      <th>postion</th>\n",
       "      <th>age</th>\n",
       "      <th>nation</th>\n",
       "      <th>team</th>\n",
       "      <th>value</th>\n",
       "    </tr>\n",
       "  </thead>\n",
       "  <tbody>\n",
       "    <tr>\n",
       "      <th>0</th>\n",
       "      <td>1</td>\n",
       "      <td>Kylian Mbappé</td>\n",
       "      <td>Centre-Forward</td>\n",
       "      <td>23</td>\n",
       "      <td>France</td>\n",
       "      <td>Paris Saint-Germain</td>\n",
       "      <td>€160.00m</td>\n",
       "    </tr>\n",
       "    <tr>\n",
       "      <th>1</th>\n",
       "      <td>2</td>\n",
       "      <td>Erling Haaland</td>\n",
       "      <td>Centre-Forward</td>\n",
       "      <td>22</td>\n",
       "      <td>Norway, England</td>\n",
       "      <td>Manchester City</td>\n",
       "      <td>€150.00m</td>\n",
       "    </tr>\n",
       "    <tr>\n",
       "      <th>2</th>\n",
       "      <td>3</td>\n",
       "      <td>Vinicius Junior</td>\n",
       "      <td>Left Winger</td>\n",
       "      <td>22</td>\n",
       "      <td>Brazil, Spain</td>\n",
       "      <td>Real Madrid</td>\n",
       "      <td>€120.00m</td>\n",
       "    </tr>\n",
       "    <tr>\n",
       "      <th>3</th>\n",
       "      <td>4</td>\n",
       "      <td>Pedri</td>\n",
       "      <td>Central Midfield</td>\n",
       "      <td>19</td>\n",
       "      <td>Spain</td>\n",
       "      <td>FC Barcelona</td>\n",
       "      <td>€90.00m</td>\n",
       "    </tr>\n",
       "    <tr>\n",
       "      <th>4</th>\n",
       "      <td>5</td>\n",
       "      <td>Jude Bellingham</td>\n",
       "      <td>Central Midfield</td>\n",
       "      <td>19</td>\n",
       "      <td>England</td>\n",
       "      <td>Borussia Dortmund</td>\n",
       "      <td>€90.00m</td>\n",
       "    </tr>\n",
       "    <tr>\n",
       "      <th>5</th>\n",
       "      <td>6</td>\n",
       "      <td>Phil Foden</td>\n",
       "      <td>Central Midfield</td>\n",
       "      <td>22</td>\n",
       "      <td>England</td>\n",
       "      <td>Manchester City</td>\n",
       "      <td>€90.00m</td>\n",
       "    </tr>\n",
       "    <tr>\n",
       "      <th>6</th>\n",
       "      <td>7</td>\n",
       "      <td>Mohamed Salah</td>\n",
       "      <td>Right Winger</td>\n",
       "      <td>30</td>\n",
       "      <td>Egypt</td>\n",
       "      <td>Liverpool FC</td>\n",
       "      <td>€90.00m</td>\n",
       "    </tr>\n",
       "    <tr>\n",
       "      <th>7</th>\n",
       "      <td>8</td>\n",
       "      <td>Harry Kane</td>\n",
       "      <td>Centre-Forward</td>\n",
       "      <td>29</td>\n",
       "      <td>England</td>\n",
       "      <td>Tottenham Hotspur</td>\n",
       "      <td>€90.00m</td>\n",
       "    </tr>\n",
       "    <tr>\n",
       "      <th>8</th>\n",
       "      <td>9</td>\n",
       "      <td>Dušan Vlahović</td>\n",
       "      <td>Centre-Forward</td>\n",
       "      <td>22</td>\n",
       "      <td>Serbia</td>\n",
       "      <td>Juventus FC</td>\n",
       "      <td>€85.00m</td>\n",
       "    </tr>\n",
       "    <tr>\n",
       "      <th>9</th>\n",
       "      <td>10</td>\n",
       "      <td>Bruno Fernandes</td>\n",
       "      <td>Attacking Midfield</td>\n",
       "      <td>28</td>\n",
       "      <td>Portugal</td>\n",
       "      <td>Manchester United</td>\n",
       "      <td>€85.00m</td>\n",
       "    </tr>\n",
       "    <tr>\n",
       "      <th>10</th>\n",
       "      <td>11</td>\n",
       "      <td>Kevin De Bruyne</td>\n",
       "      <td>Attacking Midfield</td>\n",
       "      <td>31</td>\n",
       "      <td>Belgium</td>\n",
       "      <td>Manchester City</td>\n",
       "      <td>€85.00m</td>\n",
       "    </tr>\n",
       "    <tr>\n",
       "      <th>11</th>\n",
       "      <td>12</td>\n",
       "      <td>Jamal Musiala</td>\n",
       "      <td>Attacking Midfield</td>\n",
       "      <td>19</td>\n",
       "      <td>Germany, England</td>\n",
       "      <td>Bayern Munich</td>\n",
       "      <td>€80.00m</td>\n",
       "    </tr>\n",
       "    <tr>\n",
       "      <th>12</th>\n",
       "      <td>13</td>\n",
       "      <td>Aurélien Tchouameni</td>\n",
       "      <td>Defensive Midfield</td>\n",
       "      <td>22</td>\n",
       "      <td>France, Cameroon</td>\n",
       "      <td>Real Madrid</td>\n",
       "      <td>€80.00m</td>\n",
       "    </tr>\n",
       "    <tr>\n",
       "      <th>13</th>\n",
       "      <td>14</td>\n",
       "      <td>Federico Valverde</td>\n",
       "      <td>Central Midfield</td>\n",
       "      <td>24</td>\n",
       "      <td>Uruguay, Spain</td>\n",
       "      <td>Real Madrid</td>\n",
       "      <td>€80.00m</td>\n",
       "    </tr>\n",
       "    <tr>\n",
       "      <th>14</th>\n",
       "      <td>15</td>\n",
       "      <td>Declan Rice</td>\n",
       "      <td>Defensive Midfield</td>\n",
       "      <td>23</td>\n",
       "      <td>England, Ireland</td>\n",
       "      <td>West Ham United</td>\n",
       "      <td>€80.00m</td>\n",
       "    </tr>\n",
       "    <tr>\n",
       "      <th>15</th>\n",
       "      <td>16</td>\n",
       "      <td>Rodri</td>\n",
       "      <td>Defensive Midfield</td>\n",
       "      <td>26</td>\n",
       "      <td>Spain</td>\n",
       "      <td>Manchester City</td>\n",
       "      <td>€80.00m</td>\n",
       "    </tr>\n",
       "    <tr>\n",
       "      <th>16</th>\n",
       "      <td>17</td>\n",
       "      <td>Christopher Nkunku</td>\n",
       "      <td>Second Striker</td>\n",
       "      <td>24</td>\n",
       "      <td>France, DR Congo</td>\n",
       "      <td>RB Leipzig</td>\n",
       "      <td>€80.00m</td>\n",
       "    </tr>\n",
       "    <tr>\n",
       "      <th>17</th>\n",
       "      <td>18</td>\n",
       "      <td>Trent Alexander-Arnold</td>\n",
       "      <td>Right-Back</td>\n",
       "      <td>24</td>\n",
       "      <td>England</td>\n",
       "      <td>Liverpool FC</td>\n",
       "      <td>€80.00m</td>\n",
       "    </tr>\n",
       "    <tr>\n",
       "      <th>18</th>\n",
       "      <td>19</td>\n",
       "      <td>Bernardo Silva</td>\n",
       "      <td>Attacking Midfield</td>\n",
       "      <td>28</td>\n",
       "      <td>Portugal</td>\n",
       "      <td>Manchester City</td>\n",
       "      <td>€80.00m</td>\n",
       "    </tr>\n",
       "    <tr>\n",
       "      <th>19</th>\n",
       "      <td>20</td>\n",
       "      <td>Joshua Kimmich</td>\n",
       "      <td>Defensive Midfield</td>\n",
       "      <td>27</td>\n",
       "      <td>Germany</td>\n",
       "      <td>Bayern Munich</td>\n",
       "      <td>€80.00m</td>\n",
       "    </tr>\n",
       "    <tr>\n",
       "      <th>20</th>\n",
       "      <td>21</td>\n",
       "      <td>Antony</td>\n",
       "      <td>Right Winger</td>\n",
       "      <td>22</td>\n",
       "      <td>Brazil</td>\n",
       "      <td>Manchester United</td>\n",
       "      <td>€75.00m</td>\n",
       "    </tr>\n",
       "    <tr>\n",
       "      <th>21</th>\n",
       "      <td>22</td>\n",
       "      <td>Luis Díaz</td>\n",
       "      <td>Left Winger</td>\n",
       "      <td>25</td>\n",
       "      <td>Colombia</td>\n",
       "      <td>Liverpool FC</td>\n",
       "      <td>€75.00m</td>\n",
       "    </tr>\n",
       "    <tr>\n",
       "      <th>22</th>\n",
       "      <td>23</td>\n",
       "      <td>Lautaro Martínez</td>\n",
       "      <td>Centre-Forward</td>\n",
       "      <td>25</td>\n",
       "      <td>Argentina</td>\n",
       "      <td>Inter Milan</td>\n",
       "      <td>€75.00m</td>\n",
       "    </tr>\n",
       "    <tr>\n",
       "      <th>23</th>\n",
       "      <td>24</td>\n",
       "      <td>Jadon Sancho</td>\n",
       "      <td>Left Winger</td>\n",
       "      <td>22</td>\n",
       "      <td>England, Trinidad and Tobago</td>\n",
       "      <td>Manchester United</td>\n",
       "      <td>€75.00m</td>\n",
       "    </tr>\n",
       "    <tr>\n",
       "      <th>24</th>\n",
       "      <td>25</td>\n",
       "      <td>Mason Mount</td>\n",
       "      <td>Attacking Midfield</td>\n",
       "      <td>23</td>\n",
       "      <td>England</td>\n",
       "      <td>Chelsea FC</td>\n",
       "      <td>€75.00m</td>\n",
       "    </tr>\n",
       "    <tr>\n",
       "      <th>25</th>\n",
       "      <td>26</td>\n",
       "      <td>Rúben Dias</td>\n",
       "      <td>Centre-Back</td>\n",
       "      <td>25</td>\n",
       "      <td>Portugal</td>\n",
       "      <td>Manchester City</td>\n",
       "      <td>€75.00m</td>\n",
       "    </tr>\n",
       "    <tr>\n",
       "      <th>26</th>\n",
       "      <td>27</td>\n",
       "      <td>Heung-min Son</td>\n",
       "      <td>Left Winger</td>\n",
       "      <td>30</td>\n",
       "      <td>Korea, South</td>\n",
       "      <td>Tottenham Hotspur</td>\n",
       "      <td>€75.00m</td>\n",
       "    </tr>\n",
       "    <tr>\n",
       "      <th>27</th>\n",
       "      <td>28</td>\n",
       "      <td>Neymar</td>\n",
       "      <td>Left Winger</td>\n",
       "      <td>30</td>\n",
       "      <td>Brazil</td>\n",
       "      <td>Paris Saint-Germain</td>\n",
       "      <td>€75.00m</td>\n",
       "    </tr>\n",
       "    <tr>\n",
       "      <th>28</th>\n",
       "      <td>29</td>\n",
       "      <td>Gavi</td>\n",
       "      <td>Central Midfield</td>\n",
       "      <td>18</td>\n",
       "      <td>Spain</td>\n",
       "      <td>FC Barcelona</td>\n",
       "      <td>€70.00m</td>\n",
       "    </tr>\n",
       "    <tr>\n",
       "      <th>29</th>\n",
       "      <td>30</td>\n",
       "      <td>Florian Wirtz</td>\n",
       "      <td>Attacking Midfield</td>\n",
       "      <td>19</td>\n",
       "      <td>Germany</td>\n",
       "      <td>Bayer 04 Leverkusen</td>\n",
       "      <td>€70.00m</td>\n",
       "    </tr>\n",
       "    <tr>\n",
       "      <th>30</th>\n",
       "      <td>31</td>\n",
       "      <td>Darwin Núñez</td>\n",
       "      <td>Centre-Forward</td>\n",
       "      <td>23</td>\n",
       "      <td>Uruguay</td>\n",
       "      <td>Liverpool FC</td>\n",
       "      <td>€70.00m</td>\n",
       "    </tr>\n",
       "    <tr>\n",
       "      <th>31</th>\n",
       "      <td>32</td>\n",
       "      <td>João Félix</td>\n",
       "      <td>Second Striker</td>\n",
       "      <td>22</td>\n",
       "      <td>Portugal</td>\n",
       "      <td>Atlético de Madrid</td>\n",
       "      <td>€70.00m</td>\n",
       "    </tr>\n",
       "    <tr>\n",
       "      <th>32</th>\n",
       "      <td>33</td>\n",
       "      <td>Bukayo Saka</td>\n",
       "      <td>Right Midfield</td>\n",
       "      <td>21</td>\n",
       "      <td>England, Nigeria</td>\n",
       "      <td>Arsenal FC</td>\n",
       "      <td>€70.00m</td>\n",
       "    </tr>\n",
       "    <tr>\n",
       "      <th>33</th>\n",
       "      <td>34</td>\n",
       "      <td>Alphonso Davies</td>\n",
       "      <td>Left-Back</td>\n",
       "      <td>21</td>\n",
       "      <td>Canada, Liberia</td>\n",
       "      <td>Bayern Munich</td>\n",
       "      <td>€70.00m</td>\n",
       "    </tr>\n",
       "    <tr>\n",
       "      <th>34</th>\n",
       "      <td>35</td>\n",
       "      <td>Rodrygo</td>\n",
       "      <td>Right Winger</td>\n",
       "      <td>21</td>\n",
       "      <td>Brazil</td>\n",
       "      <td>Real Madrid</td>\n",
       "      <td>€70.00m</td>\n",
       "    </tr>\n",
       "    <tr>\n",
       "      <th>35</th>\n",
       "      <td>36</td>\n",
       "      <td>Rafael Leão</td>\n",
       "      <td>Left Winger</td>\n",
       "      <td>23</td>\n",
       "      <td>Portugal, Angola</td>\n",
       "      <td>AC Milan</td>\n",
       "      <td>€70.00m</td>\n",
       "    </tr>\n",
       "    <tr>\n",
       "      <th>36</th>\n",
       "      <td>37</td>\n",
       "      <td>Matthijs de Ligt</td>\n",
       "      <td>Centre-Back</td>\n",
       "      <td>23</td>\n",
       "      <td>Netherlands</td>\n",
       "      <td>Bayern Munich</td>\n",
       "      <td>€70.00m</td>\n",
       "    </tr>\n",
       "    <tr>\n",
       "      <th>37</th>\n",
       "      <td>38</td>\n",
       "      <td>Kai Havertz</td>\n",
       "      <td>Attacking Midfield</td>\n",
       "      <td>23</td>\n",
       "      <td>Germany</td>\n",
       "      <td>Chelsea FC</td>\n",
       "      <td>€70.00m</td>\n",
       "    </tr>\n",
       "    <tr>\n",
       "      <th>38</th>\n",
       "      <td>39</td>\n",
       "      <td>Nicolò Barella</td>\n",
       "      <td>Central Midfield</td>\n",
       "      <td>25</td>\n",
       "      <td>Italy</td>\n",
       "      <td>Inter Milan</td>\n",
       "      <td>€70.00m</td>\n",
       "    </tr>\n",
       "    <tr>\n",
       "      <th>39</th>\n",
       "      <td>40</td>\n",
       "      <td>Jack Grealish</td>\n",
       "      <td>Left Winger</td>\n",
       "      <td>27</td>\n",
       "      <td>England, Ireland</td>\n",
       "      <td>Manchester City</td>\n",
       "      <td>€70.00m</td>\n",
       "    </tr>\n",
       "    <tr>\n",
       "      <th>40</th>\n",
       "      <td>41</td>\n",
       "      <td>Marquinhos</td>\n",
       "      <td>Centre-Back</td>\n",
       "      <td>28</td>\n",
       "      <td>Brazil, Portugal</td>\n",
       "      <td>Paris Saint-Germain</td>\n",
       "      <td>€70.00m</td>\n",
       "    </tr>\n",
       "    <tr>\n",
       "      <th>41</th>\n",
       "      <td>42</td>\n",
       "      <td>Raheem Sterling</td>\n",
       "      <td>Left Winger</td>\n",
       "      <td>27</td>\n",
       "      <td>England, Jamaica</td>\n",
       "      <td>Chelsea FC</td>\n",
       "      <td>€70.00m</td>\n",
       "    </tr>\n",
       "    <tr>\n",
       "      <th>42</th>\n",
       "      <td>43</td>\n",
       "      <td>Romelu Lukaku</td>\n",
       "      <td>Centre-Forward</td>\n",
       "      <td>29</td>\n",
       "      <td>Belgium, DR Congo</td>\n",
       "      <td>Inter Milan</td>\n",
       "      <td>€70.00m</td>\n",
       "    </tr>\n",
       "    <tr>\n",
       "      <th>43</th>\n",
       "      <td>44</td>\n",
       "      <td>Wesley Fofana</td>\n",
       "      <td>Centre-Back</td>\n",
       "      <td>21</td>\n",
       "      <td>France, Cote d'Ivoire</td>\n",
       "      <td>Chelsea FC</td>\n",
       "      <td>€65.00m</td>\n",
       "    </tr>\n",
       "    <tr>\n",
       "      <th>44</th>\n",
       "      <td>45</td>\n",
       "      <td>Victor Osimhen</td>\n",
       "      <td>Centre-Forward</td>\n",
       "      <td>23</td>\n",
       "      <td>Nigeria</td>\n",
       "      <td>SSC Napoli</td>\n",
       "      <td>€65.00m</td>\n",
       "    </tr>\n",
       "    <tr>\n",
       "      <th>45</th>\n",
       "      <td>46</td>\n",
       "      <td>Achraf Hakimi</td>\n",
       "      <td>Right-Back</td>\n",
       "      <td>23</td>\n",
       "      <td>Morocco, Spain</td>\n",
       "      <td>Paris Saint-Germain</td>\n",
       "      <td>€65.00m</td>\n",
       "    </tr>\n",
       "    <tr>\n",
       "      <th>46</th>\n",
       "      <td>47</td>\n",
       "      <td>Gabriel Jesus</td>\n",
       "      <td>Centre-Forward</td>\n",
       "      <td>25</td>\n",
       "      <td>Brazil</td>\n",
       "      <td>Arsenal FC</td>\n",
       "      <td>€65.00m</td>\n",
       "    </tr>\n",
       "    <tr>\n",
       "      <th>47</th>\n",
       "      <td>48</td>\n",
       "      <td>Federico Chiesa</td>\n",
       "      <td>Right Winger</td>\n",
       "      <td>25</td>\n",
       "      <td>Italy</td>\n",
       "      <td>Juventus FC</td>\n",
       "      <td>€65.00m</td>\n",
       "    </tr>\n",
       "    <tr>\n",
       "      <th>48</th>\n",
       "      <td>49</td>\n",
       "      <td>Andrew Robertson</td>\n",
       "      <td>Left-Back</td>\n",
       "      <td>28</td>\n",
       "      <td>Scotland</td>\n",
       "      <td>Liverpool FC</td>\n",
       "      <td>€65.00m</td>\n",
       "    </tr>\n",
       "    <tr>\n",
       "      <th>49</th>\n",
       "      <td>50</td>\n",
       "      <td>Milan Skriniar</td>\n",
       "      <td>Centre-Back</td>\n",
       "      <td>27</td>\n",
       "      <td>Slovakia</td>\n",
       "      <td>Inter Milan</td>\n",
       "      <td>€65.00m</td>\n",
       "    </tr>\n",
       "  </tbody>\n",
       "</table>\n",
       "</div>"
      ],
      "text/plain": [
       "   number                    name             postion age  \\\n",
       "0       1           Kylian Mbappé      Centre-Forward  23   \n",
       "1       2          Erling Haaland      Centre-Forward  22   \n",
       "2       3         Vinicius Junior         Left Winger  22   \n",
       "3       4                   Pedri    Central Midfield  19   \n",
       "4       5         Jude Bellingham    Central Midfield  19   \n",
       "5       6              Phil Foden    Central Midfield  22   \n",
       "6       7           Mohamed Salah        Right Winger  30   \n",
       "7       8              Harry Kane      Centre-Forward  29   \n",
       "8       9          Dušan Vlahović      Centre-Forward  22   \n",
       "9      10         Bruno Fernandes  Attacking Midfield  28   \n",
       "10     11         Kevin De Bruyne  Attacking Midfield  31   \n",
       "11     12           Jamal Musiala  Attacking Midfield  19   \n",
       "12     13     Aurélien Tchouameni  Defensive Midfield  22   \n",
       "13     14       Federico Valverde    Central Midfield  24   \n",
       "14     15             Declan Rice  Defensive Midfield  23   \n",
       "15     16                   Rodri  Defensive Midfield  26   \n",
       "16     17      Christopher Nkunku      Second Striker  24   \n",
       "17     18  Trent Alexander-Arnold          Right-Back  24   \n",
       "18     19          Bernardo Silva  Attacking Midfield  28   \n",
       "19     20          Joshua Kimmich  Defensive Midfield  27   \n",
       "20     21                  Antony        Right Winger  22   \n",
       "21     22               Luis Díaz         Left Winger  25   \n",
       "22     23        Lautaro Martínez      Centre-Forward  25   \n",
       "23     24            Jadon Sancho         Left Winger  22   \n",
       "24     25             Mason Mount  Attacking Midfield  23   \n",
       "25     26              Rúben Dias         Centre-Back  25   \n",
       "26     27           Heung-min Son         Left Winger  30   \n",
       "27     28                  Neymar         Left Winger  30   \n",
       "28     29                    Gavi    Central Midfield  18   \n",
       "29     30           Florian Wirtz  Attacking Midfield  19   \n",
       "30     31            Darwin Núñez      Centre-Forward  23   \n",
       "31     32              João Félix      Second Striker  22   \n",
       "32     33             Bukayo Saka      Right Midfield  21   \n",
       "33     34         Alphonso Davies           Left-Back  21   \n",
       "34     35                 Rodrygo        Right Winger  21   \n",
       "35     36             Rafael Leão         Left Winger  23   \n",
       "36     37        Matthijs de Ligt         Centre-Back  23   \n",
       "37     38             Kai Havertz  Attacking Midfield  23   \n",
       "38     39          Nicolò Barella    Central Midfield  25   \n",
       "39     40           Jack Grealish         Left Winger  27   \n",
       "40     41              Marquinhos         Centre-Back  28   \n",
       "41     42         Raheem Sterling         Left Winger  27   \n",
       "42     43           Romelu Lukaku      Centre-Forward  29   \n",
       "43     44           Wesley Fofana         Centre-Back  21   \n",
       "44     45          Victor Osimhen      Centre-Forward  23   \n",
       "45     46           Achraf Hakimi          Right-Back  23   \n",
       "46     47           Gabriel Jesus      Centre-Forward  25   \n",
       "47     48         Federico Chiesa        Right Winger  25   \n",
       "48     49        Andrew Robertson           Left-Back  28   \n",
       "49     50          Milan Skriniar         Centre-Back  27   \n",
       "\n",
       "                          nation                 team     value  \n",
       "0                         France  Paris Saint-Germain  €160.00m  \n",
       "1                Norway, England      Manchester City  €150.00m  \n",
       "2                  Brazil, Spain          Real Madrid  €120.00m  \n",
       "3                          Spain         FC Barcelona   €90.00m  \n",
       "4                        England    Borussia Dortmund   €90.00m  \n",
       "5                        England      Manchester City   €90.00m  \n",
       "6                          Egypt         Liverpool FC   €90.00m  \n",
       "7                        England    Tottenham Hotspur   €90.00m  \n",
       "8                         Serbia          Juventus FC   €85.00m  \n",
       "9                       Portugal    Manchester United   €85.00m  \n",
       "10                       Belgium      Manchester City   €85.00m  \n",
       "11              Germany, England        Bayern Munich   €80.00m  \n",
       "12              France, Cameroon          Real Madrid   €80.00m  \n",
       "13                Uruguay, Spain          Real Madrid   €80.00m  \n",
       "14              England, Ireland      West Ham United   €80.00m  \n",
       "15                         Spain      Manchester City   €80.00m  \n",
       "16              France, DR Congo           RB Leipzig   €80.00m  \n",
       "17                       England         Liverpool FC   €80.00m  \n",
       "18                      Portugal      Manchester City   €80.00m  \n",
       "19                       Germany        Bayern Munich   €80.00m  \n",
       "20                        Brazil    Manchester United   €75.00m  \n",
       "21                      Colombia         Liverpool FC   €75.00m  \n",
       "22                     Argentina          Inter Milan   €75.00m  \n",
       "23  England, Trinidad and Tobago    Manchester United   €75.00m  \n",
       "24                       England           Chelsea FC   €75.00m  \n",
       "25                      Portugal      Manchester City   €75.00m  \n",
       "26                  Korea, South    Tottenham Hotspur   €75.00m  \n",
       "27                        Brazil  Paris Saint-Germain   €75.00m  \n",
       "28                         Spain         FC Barcelona   €70.00m  \n",
       "29                       Germany  Bayer 04 Leverkusen   €70.00m  \n",
       "30                       Uruguay         Liverpool FC   €70.00m  \n",
       "31                      Portugal   Atlético de Madrid   €70.00m  \n",
       "32              England, Nigeria           Arsenal FC   €70.00m  \n",
       "33               Canada, Liberia        Bayern Munich   €70.00m  \n",
       "34                        Brazil          Real Madrid   €70.00m  \n",
       "35              Portugal, Angola             AC Milan   €70.00m  \n",
       "36                   Netherlands        Bayern Munich   €70.00m  \n",
       "37                       Germany           Chelsea FC   €70.00m  \n",
       "38                         Italy          Inter Milan   €70.00m  \n",
       "39              England, Ireland      Manchester City   €70.00m  \n",
       "40              Brazil, Portugal  Paris Saint-Germain   €70.00m  \n",
       "41              England, Jamaica           Chelsea FC   €70.00m  \n",
       "42             Belgium, DR Congo          Inter Milan   €70.00m  \n",
       "43         France, Cote d'Ivoire           Chelsea FC   €65.00m  \n",
       "44                       Nigeria           SSC Napoli   €65.00m  \n",
       "45                Morocco, Spain  Paris Saint-Germain   €65.00m  \n",
       "46                        Brazil           Arsenal FC   €65.00m  \n",
       "47                         Italy          Juventus FC   €65.00m  \n",
       "48                      Scotland         Liverpool FC   €65.00m  \n",
       "49                      Slovakia          Inter Milan   €65.00m  "
      ]
     },
     "execution_count": 207,
     "metadata": {},
     "output_type": "execute_result"
    }
   ],
   "source": [
    "df_50 = pd.DataFrame(\n",
    "    {'number':number,\n",
    "    'name': name,\n",
    "    'postion': position,\n",
    "    'age': age,\n",
    "    'nation': nation,\n",
    "    'team': team,\n",
    "    'value': value}\n",
    ")\n",
    "df_50"
   ]
  },
  {
   "cell_type": "code",
   "execution_count": 208,
   "id": "61d99785",
   "metadata": {},
   "outputs": [],
   "source": [
    "df_50.to_excel('tranfermarket50.xlsx', index=False)"
   ]
  },
  {
   "cell_type": "code",
   "execution_count": null,
   "id": "207dc48f",
   "metadata": {},
   "outputs": [],
   "source": []
  },
  {
   "cell_type": "code",
   "execution_count": null,
   "id": "a437e6ec",
   "metadata": {},
   "outputs": [],
   "source": []
  }
 ],
 "metadata": {
  "kernelspec": {
   "display_name": "Python 3 (ipykernel)",
   "language": "python",
   "name": "python3"
  },
  "language_info": {
   "codemirror_mode": {
    "name": "ipython",
    "version": 3
   },
   "file_extension": ".py",
   "mimetype": "text/x-python",
   "name": "python",
   "nbconvert_exporter": "python",
   "pygments_lexer": "ipython3",
   "version": "3.9.12"
  }
 },
 "nbformat": 4,
 "nbformat_minor": 5
}
