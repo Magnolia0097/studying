{
 "cells": [
  {
   "cell_type": "code",
   "execution_count": 1,
   "id": "234bcb36",
   "metadata": {},
   "outputs": [
    {
     "name": "stdout",
     "output_type": "stream",
     "text": [
      "Collecting selenium\n",
      "  Downloading selenium-4.5.0-py3-none-any.whl (995 kB)\n",
      "Requirement already satisfied: certifi>=2021.10.8 in c:\\users\\wsu\\anaconda3\\lib\\site-packages (from selenium) (2021.10.8)\n",
      "Collecting trio-websocket~=0.9\n",
      "  Downloading trio_websocket-0.9.2-py3-none-any.whl (16 kB)\n",
      "Requirement already satisfied: urllib3[socks]~=1.26 in c:\\users\\wsu\\anaconda3\\lib\\site-packages (from selenium) (1.26.9)\n",
      "Collecting trio~=0.17\n",
      "  Downloading trio-0.22.0-py3-none-any.whl (384 kB)\n",
      "Requirement already satisfied: sniffio in c:\\users\\wsu\\anaconda3\\lib\\site-packages (from trio~=0.17->selenium) (1.2.0)\n",
      "Collecting outcome\n",
      "  Downloading outcome-1.2.0-py2.py3-none-any.whl (9.7 kB)\n",
      "Collecting async-generator>=1.9\n",
      "  Downloading async_generator-1.10-py3-none-any.whl (18 kB)\n",
      "Requirement already satisfied: sortedcontainers in c:\\users\\wsu\\anaconda3\\lib\\site-packages (from trio~=0.17->selenium) (2.4.0)\n",
      "Requirement already satisfied: cffi>=1.14 in c:\\users\\wsu\\anaconda3\\lib\\site-packages (from trio~=0.17->selenium) (1.15.0)\n",
      "Requirement already satisfied: attrs>=19.2.0 in c:\\users\\wsu\\anaconda3\\lib\\site-packages (from trio~=0.17->selenium) (21.4.0)\n",
      "Requirement already satisfied: idna in c:\\users\\wsu\\anaconda3\\lib\\site-packages (from trio~=0.17->selenium) (3.3)\n",
      "Collecting exceptiongroup>=1.0.0rc9\n",
      "  Downloading exceptiongroup-1.0.0rc9-py3-none-any.whl (12 kB)\n",
      "Requirement already satisfied: pycparser in c:\\users\\wsu\\anaconda3\\lib\\site-packages (from cffi>=1.14->trio~=0.17->selenium) (2.21)\n",
      "Collecting wsproto>=0.14\n",
      "  Downloading wsproto-1.2.0-py3-none-any.whl (24 kB)\n",
      "Requirement already satisfied: PySocks!=1.5.7,<2.0,>=1.5.6 in c:\\users\\wsu\\anaconda3\\lib\\site-packages (from urllib3[socks]~=1.26->selenium) (1.7.1)\n",
      "Collecting h11<1,>=0.9.0\n",
      "  Downloading h11-0.14.0-py3-none-any.whl (58 kB)\n",
      "Installing collected packages: outcome, h11, exceptiongroup, async-generator, wsproto, trio, trio-websocket, selenium\n",
      "Successfully installed async-generator-1.10 exceptiongroup-1.0.0rc9 h11-0.14.0 outcome-1.2.0 selenium-4.5.0 trio-0.22.0 trio-websocket-0.9.2 wsproto-1.2.0\n"
     ]
    }
   ],
   "source": [
    "# 셀레니움 설치\n",
    "!pip install selenium"
   ]
  },
  {
   "cell_type": "code",
   "execution_count": 2,
   "id": "1000e8ba",
   "metadata": {},
   "outputs": [],
   "source": [
    "import selenium"
   ]
  },
  {
   "cell_type": "markdown",
   "id": "9fb5f62b",
   "metadata": {},
   "source": [
    "셀레니움 홈페이지 사용법 문서 확인 \n",
    "https://www.selenium.dev/documentation/"
   ]
  },
  {
   "cell_type": "code",
   "execution_count": 17,
   "id": "3611e6b7",
   "metadata": {},
   "outputs": [],
   "source": [
    "# 같은 폴더에 드라이버가 있을 때\n",
    "\n",
    "import time\n",
    "from selenium import webdriver\n",
    "\n",
    "driver = webdriver.Chrome()\n",
    "driver.get(\"http://www.naver.com\")"
   ]
  },
  {
   "cell_type": "code",
   "execution_count": 13,
   "id": "d01156e2",
   "metadata": {},
   "outputs": [
    {
     "name": "stderr",
     "output_type": "stream",
     "text": [
      "C:\\Users\\WSU\\AppData\\Local\\Temp\\ipykernel_14104\\1008898760.py:4: DeprecationWarning: executable_path has been deprecated, please pass in a Service object\n",
      "  driver = webdriver.Chrome(r'C:\\Users\\WSU\\Downloads/chromedriver.exe')\n"
     ]
    }
   ],
   "source": [
    "# 다른 폴더에 있을 때 - 절대경로로 표시\n",
    "import time\n",
    "from selenium import webdriver\n",
    "\n",
    "driver = webdriver.Chrome(r'C:\\Users\\WSU\\Downloads/chromedriver.exe') #r-string으로 역슬래시를 있는 그대로 표시\n",
    "driver.get(\"http://www.naver.com\")\n"
   ]
  },
  {
   "cell_type": "code",
   "execution_count": null,
   "id": "97ce11ad",
   "metadata": {},
   "outputs": [],
   "source": [
    "# 웹자동화 실행"
   ]
  },
  {
   "cell_type": "markdown",
   "id": "00e94771",
   "metadata": {},
   "source": [
    "파이썬 예제 따라하기 https://selenium-python.readthedocs.io/getting-started.html"
   ]
  },
  {
   "cell_type": "code",
   "execution_count": 3,
   "id": "49c0b9ec",
   "metadata": {},
   "outputs": [],
   "source": [
    "# 파이썬 예제 코드\n",
    "from selenium import webdriver\n",
    "from selenium.webdriver.common.keys import Keys\n",
    "from selenium.webdriver.common.by import By\n",
    "\n",
    "driver = webdriver.Chrome()\n",
    "driver.get(\"http://www.python.org\")\n",
    "assert \"Python\" in driver.title\n",
    "\n",
    "elem = driver.find_element(By.NAME, \"q\")\n",
    "elem.clear()\n",
    "elem.send_keys(\"pycon\")\n",
    "elem.send_keys(Keys.RETURN)\n",
    "assert \"No results found.\" not in driver.page_source\n",
    "driver.close()"
   ]
  },
  {
   "cell_type": "code",
   "execution_count": 21,
   "id": "a0dac679",
   "metadata": {},
   "outputs": [],
   "source": [
    "# 코드 수정\n",
    "from selenium import webdriver\n",
    "from selenium.webdriver.common.keys import Keys\n",
    "from selenium.webdriver.common.by import By\n",
    "\n",
    "driver = webdriver.Chrome()  # 크롬으로 변경\n",
    "driver.get(\"http://www.python.org\")\n",
    "\n",
    "elem = driver.find_element(By.ID, \"id-search-field\") # name 대신 id로 찾아봄\n",
    "elem.clear()\n",
    "elem.send_keys(\"py\")   # 검색어 변경\n",
    "elem.send_keys(Keys.RETURN)\n",
    "# driver.close()"
   ]
  },
  {
   "cell_type": "markdown",
   "id": "1d386a71",
   "metadata": {},
   "source": [
    "### Melon에서 BTS 최신 앨범 가사 수집하기"
   ]
  },
  {
   "cell_type": "markdown",
   "id": "2ec047a1",
   "metadata": {},
   "source": [
    "find_element 사용법 연습 https://selenium-python.readthedocs.io/navigating.html"
   ]
  },
  {
   "cell_type": "code",
   "execution_count": 21,
   "id": "a6e4a6f4",
   "metadata": {},
   "outputs": [],
   "source": [
    "# 웹주소 입력\n",
    "\n",
    "url = 'https://www.melon.com'\n",
    "driver = webdriver.Chrome()\n",
    "driver.get(url)"
   ]
  },
  {
   "cell_type": "code",
   "execution_count": 22,
   "id": "b9489f79",
   "metadata": {},
   "outputs": [],
   "source": [
    "# 검색창에 bts를 입력하고 엔터키\n",
    "\n",
    "elem = driver.find_element(By.ID, \"top_search\")  \n",
    "elem.clear()\n",
    "elem.send_keys(\"bts\")   # 검색어 변경\n",
    "elem.send_keys(Keys.RETURN)"
   ]
  },
  {
   "cell_type": "code",
   "execution_count": 23,
   "id": "1af16cfd",
   "metadata": {},
   "outputs": [],
   "source": [
    "# 최신앨범 Proof의 사진에 해당하는 selector를 복사 : #frm > div > ul > li:nth-child(1) > div > a.thumb > span\n",
    "\n",
    "driver.find_element(By.CSS_SELECTOR, '#frm > div > ul > li:nth-child(1) > div > a.thumb > span').click()"
   ]
  },
  {
   "cell_type": "code",
   "execution_count": 24,
   "id": "6f5126d8",
   "metadata": {},
   "outputs": [],
   "source": [
    "# 가사 아이콘(노트)을 XPAHT로 찾앚서 클릭\n",
    "driver.find_elements(By.XPATH, '//*[@id=\"frm\"]/div/table/tbody/tr[2]/td[3]/div/a')[0].click()"
   ]
  },
  {
   "cell_type": "code",
   "execution_count": 8,
   "id": "17d94b20",
   "metadata": {},
   "outputs": [
    {
     "name": "stdout",
     "output_type": "stream",
     "text": [
      "I'm a born singer 좀 늦어버린 고백 (I swear)\n",
      "언제나 멀기만 했었던 신기루가 눈 앞에 있어\n",
      "\n",
      "I'm a born singer 어쩌면 이른 고백\n",
      "그래도 너무 행복해 I'm good, yeah\n",
      "\n",
      "난생 처음 방탄이란 이름으로 선 무대\n",
      "삼년 전 첫 무대의 마음을 다시 검문해\n",
      "여전히 대구 촌놈 랩퍼와 다를게 없었지 but\n",
      "아마추어란 단어 위에 프로란 단어를 덧썼지\n",
      "그토록 원하던 무대, 랩을 하며 춤출 때\n",
      "아직 살아있음을 느껴 피곤하고 고된 출퇴근\n",
      "따위는 견딜만 해 내 사람들이 지켜보니까\n",
      "몸이 아파도 버틸만 해 함성들이 밀려오니까\n",
      "데뷔 전후의 차이점 아이돌과 랩퍼 사이 경계에\n",
      "살아도 여전히 내 공책엔 라임이 차있어\n",
      "대기실과 무대 사이에선 펜을 들고 가사를 써\n",
      "이런 내가 니들 눈에는 뭐가 달라졌어?\n",
      "Damn, shit 난 여전해\n",
      "내가 변했다고? 가서 전해\n",
      "변함없이 본질을 지켜 I'm still rapperman\n",
      "3년 전과 다름없이 랩하고 노래해 (I'm out)\n",
      "\n",
      "I'm a born singer 좀 늦어버린 고백 (I swear)\n",
      "언제나 멀기만 했었던 신기루가 눈 앞에 있어\n",
      "\n",
      "I'm a born singer 어쩌면 이른 고백\n",
      "그래도 너무 행복해 I'm good, yeah\n",
      "\n",
      "솔직히 두려웠었어\n",
      "큰 소린 쳐놨는데 날 증명한다는게\n",
      "펜과 책만 알던 내가 이제 세상을 놀래킨다는게\n",
      "I dunno, 세상의 기대치와 너무 비대칭할까봐\n",
      "두려웠어 나를 믿어줬던 모든 사람들을 배신\n",
      "하게 될까봐 무거운 어깨를 펴고 첫 무대에 올라\n",
      "찰나의 짧은 정적, 숨을 골라\n",
      "내가 지켜봤던 사람들이 이젠 날 지켜보고 있네\n",
      "항상 올려봤던 TV 속 그들이 지금은 내 밑에\n",
      "주마등처럼 스칠 틈도 없이\n",
      "한 번뿐인 연극은 시작돼버렸지\n",
      "3분 만에 증발한 내 3년의 피땀\n",
      "피 터지는 마이크와의 기 싸움\n",
      "몇십초일 뿐이었지만 똑똑히 쏟아내 I'm ******* real\n",
      "얌마 니 꿈은 뭐야 나는 랩스타가 되는 거야 can't you feel\n",
      "그리고 내려온 순간 그 함성\n",
      "Yeah I could read your mind, I could read your mind\n",
      "물음표 대신 미소만\n",
      "말없이 멤버들은 그저 내 어깨를 두드려줬어\n",
      "꼭 엊그제 같은데 스무 밤이 흘러버렸어\n",
      "And let the haters hate on me\n",
      "걔네가 늘상 해온 일\n",
      "니네가 키보드 놀릴 동안 난 내 꿈들을 채웠지\n",
      "선글라스, hairstyle, 왜 욕하는지 알아\n",
      "어쨌든 스무살에 너보다 잘 나가는 나야\n",
      "하하\n",
      "\n",
      "I'm a born singer 좀 늦어버린 고백 (I swear)\n",
      "언제나 멀기만 했었던 신기루가 눈 앞에 있어\n",
      "\n",
      "I'm a born singer 어쩌면 이른 고백\n",
      "그래도 너무 행복해 I'm good, yeah\n",
      "\n",
      "우리가 뛰었던 날, 우리 같이 겪었던 날\n",
      "3년이란 시간, 모두 하나가 됐던 마음\n",
      "그렇게 흘린 피땀이 날 적시네\n",
      "무대가 끝난 뒤 눈물이 번지네\n",
      "매 순간마다 자신에게 다짐해 초심을 잃지 않게\n",
      "항상 나답게, 처음의 나에게 부끄럽지 않게\n",
      "So we go we go we go\n",
      "더 위로 위로 위로\n",
      "\n",
      "I'm a born singer 좀 늦어버린 고백 (I swear)\n",
      "언제나 멀기만 했었던 신기루가 눈 앞에 있어\n",
      "\n",
      "I'm a born singer 어쩌면 이른 고백\n",
      "그래도 너무 행복해 I'm good, yeah\n"
     ]
    }
   ],
   "source": [
    "#id로 가사 부분을 찾아서......\n",
    "\n",
    "lyric = driver.find_element(By.ID, 'd_video_summary').text\n",
    "print(lyric)"
   ]
  },
  {
   "cell_type": "markdown",
   "id": "4a974947",
   "metadata": {},
   "source": [
    "### Selenium과 BS와 콜라보"
   ]
  },
  {
   "cell_type": "code",
   "execution_count": 26,
   "id": "5fa87315",
   "metadata": {},
   "outputs": [
    {
     "name": "stdout",
     "output_type": "stream",
     "text": [
      "I'm a born singer 좀 늦어버린 고백 (I swear)언제나 멀기만 했었던 신기루가 눈 앞에 있어I'm a born singer 어쩌면 이른 고백그래도 너무 행복해 I'm good, yeah난생 처음 방탄이란 이름으로 선 무대삼년 전 첫 무대의 마음을 다시 검문해여전히 대구 촌놈 랩퍼와 다를게 없었지 but아마추어란 단어 위에 프로란 단어를 덧썼지그토록 원하던 무대, 랩을 하며 춤출 때아직 살아있음을 느껴 피곤하고 고된 출퇴근따위는 견딜만 해 내 사람들이 지켜보니까몸이 아파도 버틸만 해 함성들이 밀려오니까데뷔 전후의 차이점 아이돌과 랩퍼 사이 경계에살아도 여전히 내 공책엔 라임이 차있어대기실과 무대 사이에선 펜을 들고 가사를 써이런 내가 니들 눈에는 뭐가 달라졌어?Damn, shit 난 여전해내가 변했다고? 가서 전해변함없이 본질을 지켜 I'm still rapperman3년 전과 다름없이 랩하고 노래해 (I'm out)I'm a born singer 좀 늦어버린 고백 (I swear)언제나 멀기만 했었던 신기루가 눈 앞에 있어I'm a born singer 어쩌면 이른 고백그래도 너무 행복해 I'm good, yeah솔직히 두려웠었어큰 소린 쳐놨는데 날 증명한다는게펜과 책만 알던 내가 이제 세상을 놀래킨다는게I dunno, 세상의 기대치와 너무 비대칭할까봐두려웠어 나를 믿어줬던 모든 사람들을 배신하게 될까봐 무거운 어깨를 펴고 첫 무대에 올라찰나의 짧은 정적, 숨을 골라내가 지켜봤던 사람들이 이젠 날 지켜보고 있네항상 올려봤던 TV 속 그들이 지금은 내 밑에주마등처럼 스칠 틈도 없이한 번뿐인 연극은 시작돼버렸지3분 만에 증발한 내 3년의 피땀피 터지는 마이크와의 기 싸움몇십초일 뿐이었지만 똑똑히 쏟아내 I'm ******* real얌마 니 꿈은 뭐야 나는 랩스타가 되는 거야 can't you feel그리고 내려온 순간 그 함성Yeah I could read your mind, I could read your mind물음표 대신 미소만말없이 멤버들은 그저 내 어깨를 두드려줬어꼭 엊그제 같은데 스무 밤이 흘러버렸어And let the haters hate on me걔네가 늘상 해온 일니네가 키보드 놀릴 동안 난 내 꿈들을 채웠지선글라스, hairstyle, 왜 욕하는지 알아어쨌든 스무살에 너보다 잘 나가는 나야하하I'm a born singer 좀 늦어버린 고백 (I swear)언제나 멀기만 했었던 신기루가 눈 앞에 있어I'm a born singer 어쩌면 이른 고백그래도 너무 행복해 I'm good, yeah우리가 뛰었던 날, 우리 같이 겪었던 날3년이란 시간, 모두 하나가 됐던 마음그렇게 흘린 피땀이 날 적시네무대가 끝난 뒤 눈물이 번지네매 순간마다 자신에게 다짐해 초심을 잃지 않게항상 나답게, 처음의 나에게 부끄럽지 않게So we go we go we go더 위로 위로 위로I'm a born singer 좀 늦어버린 고백 (I swear)언제나 멀기만 했었던 신기루가 눈 앞에 있어I'm a born singer 어쩌면 이른 고백그래도 너무 행복해 I'm good, yeah\n"
     ]
    }
   ],
   "source": [
    "html =driver.page_source\n",
    "\n",
    "from bs4 import BeautifulSoup as bs\n",
    "\n",
    "soup = bs(html, 'html.parser')\n",
    "lyric = soup.find('div', class_='lyric').text.strip()\n",
    "print(lyric)\n"
   ]
  },
  {
   "cell_type": "code",
   "execution_count": 30,
   "id": "40cc8d15",
   "metadata": {},
   "outputs": [],
   "source": [
    "# 뒤로 가기\n",
    "\n",
    "driver.back()"
   ]
  },
  {
   "cell_type": "code",
   "execution_count": 31,
   "id": "18a25da4",
   "metadata": {},
   "outputs": [],
   "source": [
    "# driver.close() 종료\n",
    "\n",
    "driver.close()"
   ]
  },
  {
   "cell_type": "code",
   "execution_count": 33,
   "id": "a92b7faa",
   "metadata": {},
   "outputs": [],
   "source": [
    "url = 'https://www.melon.com/album/detail.htm?albumId=10979636'\n",
    "driver= webdriver.Chrome()\n",
    "driver.get(url)"
   ]
  },
  {
   "cell_type": "markdown",
   "id": "25a1c1d8",
   "metadata": {},
   "source": [
    "첫 곡 가사의 xpath: '//*[@id=\"frm\"]/div/table/tbody/**tr[2]**/td[3]/div/a'  \n",
    "\n",
    "두번째 곡 가사의 xpath : '//*[@id=\"frm\"]/div/table/tbody/**tr[3]**/td[3]/div/a'"
   ]
  },
  {
   "cell_type": "code",
   "execution_count": 19,
   "id": "60b370fe",
   "metadata": {},
   "outputs": [],
   "source": [
    "#처음 세 곡 가사 수집하기\n",
    "import time\n",
    "\n",
    "url = 'https://www.melon.com/album/detail.htm?albumId=10979636'\n",
    "driver= webdriver.Chrome()\n",
    "driver.get(url)\n",
    "\n",
    "for i in range(0, 3):\n",
    "    \n",
    "    xpath = f'//*[@id=\"frm\"]/div/table/tbody/tr[{i+2}]/td[3]/div/a'\n",
    "    \n",
    "    song = driver.find_element(By.XPATH, xpath)\n",
    "    song.click()\n",
    "    time.sleep(2)\n",
    "    \n",
    "    lyric=driver.find_element(By.ID, 'd_video_summary').text\n",
    "    \n",
    "    with open('bts.txt', 'a', encoding='utf-8') as f:\n",
    "        f.write(lyric)\n",
    "        f.write('\\n')\n",
    "        f.write('-'*20)\n",
    "        f.write('\\n')\n",
    "#     print(lyric)\n",
    "    \n",
    "    time.sleep(2)\n",
    "    driver.back()\n",
    "\n",
    "driver.close()"
   ]
  },
  {
   "cell_type": "code",
   "execution_count": null,
   "id": "24b7a375",
   "metadata": {},
   "outputs": [],
   "source": [
    "//*[@id=\"frm\"]/div/table/tbody/tr[20]/td[3]/div/a\n",
    "//*[@id=\"frm\"]/div/table/tbody/tr[22]/td[3]/div/a"
   ]
  },
  {
   "cell_type": "code",
   "execution_count": null,
   "id": "a666adef",
   "metadata": {},
   "outputs": [],
   "source": []
  },
  {
   "cell_type": "code",
   "execution_count": null,
   "id": "01fd9fce",
   "metadata": {},
   "outputs": [],
   "source": []
  },
  {
   "cell_type": "code",
   "execution_count": null,
   "id": "f1574907",
   "metadata": {},
   "outputs": [],
   "source": []
  },
  {
   "cell_type": "code",
   "execution_count": null,
   "id": "de909956",
   "metadata": {},
   "outputs": [],
   "source": []
  },
  {
   "cell_type": "code",
   "execution_count": null,
   "id": "11c627f2",
   "metadata": {},
   "outputs": [],
   "source": []
  },
  {
   "cell_type": "code",
   "execution_count": null,
   "id": "1513c750",
   "metadata": {},
   "outputs": [],
   "source": []
  }
 ],
 "metadata": {
  "kernelspec": {
   "display_name": "Python 3 (ipykernel)",
   "language": "python",
   "name": "python3"
  },
  "language_info": {
   "codemirror_mode": {
    "name": "ipython",
    "version": 3
   },
   "file_extension": ".py",
   "mimetype": "text/x-python",
   "name": "python",
   "nbconvert_exporter": "python",
   "pygments_lexer": "ipython3",
   "version": "3.9.12"
  }
 },
 "nbformat": 4,
 "nbformat_minor": 5
}
